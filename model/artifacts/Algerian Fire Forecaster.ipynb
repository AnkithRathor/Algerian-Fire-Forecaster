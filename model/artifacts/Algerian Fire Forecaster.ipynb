{
 "cells": [
  {
   "cell_type": "markdown",
   "metadata": {
    "id": "mJ-Vv9xlAOWk"
   },
   "source": [
    "# **Project Name**    - Algerian Fire Forecaster"
   ]
  },
  {
   "cell_type": "markdown",
   "metadata": {
    "id": "14xNsXz1AJt9"
   },
   "source": [
    "##### **Project Type**    - Machine Learning\n",
    "##### **Contribution**    - Individual\n",
    "##### **Team Member 1**   - Ankith Rathor"
   ]
  },
  {
   "cell_type": "markdown",
   "metadata": {
    "id": "w6K7xa23Elo4"
   },
   "source": [
    "# **GitHub Link**"
   ]
  },
  {
   "cell_type": "markdown",
   "metadata": {
    "id": "h1o69JH3Eqqn"
   },
   "source": [
    "https://github.com/AnkithRathor/Algerian-Fire-Forecaster"
   ]
  },
  {
   "cell_type": "markdown",
   "metadata": {
    "id": "YIm-GqKCeirz"
   },
   "source": [
    "# **Introduction**"
   ]
  },
  {
   "cell_type": "markdown",
   "metadata": {
    "id": "llTRPsb_eoBZ"
   },
   "source": [
    "\n",
    "* Welcome to the 'Algerian Fire Forecaster,' a cutting-edge project leveraging Machine Learning and Python to predict wildfire risks in Algeria.\n",
    "* This project analyzes key factors like Temperature, Relative Humidity, Wind speed, Rain level,Fine Fuel Moisture Code, Duff Moisture Code, Drought Code, Initial Spread Index, Buildup Index and predicts Fire Weather Index.\n",
    "* By fusing meteorological data with machine learning, this project aims to provide timely insights for effective firefighting and emergency response, offering a proactive approach to wildfire management in Algeria."
   ]
  },
  {
   "cell_type": "markdown",
   "metadata": {
    "id": "Gq1j4bOE43cK"
   },
   "source": [
    "# **Objective**"
   ]
  },
  {
   "cell_type": "markdown",
   "metadata": {
    "id": "Dns_RqDQ45z-"
   },
   "source": [
    "The objective of this project is to utilize Python and machine learning techniques for predicting the Fire Weather Index (FWI) in different locations across Algeria."
   ]
  },
  {
   "cell_type": "markdown",
   "metadata": {
    "id": "IdLWj4bZ4-xQ"
   },
   "source": [
    "# **Data Collection**"
   ]
  },
  {
   "cell_type": "markdown",
   "metadata": {
    "id": "hsjs7rn42TNX"
   },
   "source": [
    "The data for this project was collected from Kaggle, a popular platform for data science competitions and datasets.\n",
    "\n",
    "* Check out the dataset [here](https://github.com/Bharathkumar-Tamilarasu/Algerian-Fire-Forecaster/blob/main/data/raw_data/Algerian_forest_fires_dataset_UPDATE.csv)"
   ]
  },
  {
   "cell_type": "markdown",
   "metadata": {
    "id": "XvLVXUDa2F2O"
   },
   "source": [
    "# **About the Dataset**"
   ]
  },
  {
   "cell_type": "markdown",
   "metadata": {
    "id": "DjEfOEDpBN6d"
   },
   "source": [
    "### Data Set Information:\n",
    "\n",
    "The dataset includes 244 instances that regroup a data of two regions of Algeria,namely the Bejaia region located in the northeast of Algeria and the Sidi Bel-abbes region located in the northwest of Algeria.\n",
    "\n",
    "122 instances for each region.\n",
    "\n",
    "The period from June 2012 to September 2012. The dataset includes 11 attribues and 1 output attribue (class) The 244 instances have been classified into fire(138 classes) and not fire (106 classes) classes.\n",
    "\n",
    "### Attribute Information:\n",
    "\n",
    "\n",
    "* Date : (DD/MM/YYYY) Day, month ('june' to 'september'), year (2012)\n",
    "Weather data observations\n",
    "* Temp : temperature noon (temperature max) in Celsius degrees: 22 to 42\n",
    "* RH : Relative Humidity in %: 21 to 90\n",
    "* Ws :Wind speed in km/h: 6 to 29\n",
    "* Rain: total day in mm: 0 to 16.8 FWI Components\n",
    "* Fine Fuel Moisture Code (FFMC) index from the FWI system: 28.6 to 92.5\n",
    "* Duff Moisture Code (DMC) index from the FWI system: 1.1 to 65.9\n",
    "* Drought Code (DC) index from the FWI system: 7 to 220.4\n",
    "* Initial Spread Index (ISI) index from the FWI system: 0 to 18.5\n",
    "* Buildup Index (BUI) index from the FWI system: 1.1 to 68\n",
    "* Fire Weather Index (FWI) Index: 0 to 31.1\n",
    "* Classes: two classes, namely Fire and not Fire"
   ]
  },
  {
   "cell_type": "markdown",
   "metadata": {
    "id": "sk-ZRPOo51W3"
   },
   "source": [
    "# **Libraries Used**"
   ]
  },
  {
   "cell_type": "markdown",
   "metadata": {
    "id": "fAlBYXr26DmX"
   },
   "source": [
    "Employed the following libraries for comprehensive data analysis:\n",
    "\n",
    "* **Pandas** for versatile data manipulation.\n",
    "* **NumPy** for efficient numerical operations.\n",
    "* Leveraged **Scikit-Learn** for machine learning tasks and predictive modeling.\n",
    "* Utilized **Matplotlib.Pyplot** and **Seaborn** for creating insightful visualizations.\n",
    "* Integrated **Regex** for advanced text pattern matching."
   ]
  },
  {
   "cell_type": "markdown",
   "metadata": {
    "id": "V5Qt98C6z5M1"
   },
   "source": [
    "## Importing Libraries"
   ]
  },
  {
   "cell_type": "code",
   "execution_count": 1,
   "metadata": {
    "executionInfo": {
     "elapsed": 444,
     "status": "ok",
     "timestamp": 1729869676376,
     "user": {
      "displayName": "Bharathkumar Tamilarasu",
      "userId": "11189951727030054376"
     },
     "user_tz": -330
    },
    "id": "M8Vqi-pPk-HR"
   },
   "outputs": [],
   "source": [
    "import pandas as pd\n",
    "import numpy as np\n",
    "import matplotlib.pyplot as plt\n",
    "import seaborn as sns\n",
    "import re\n",
    "\n",
    "from sklearn.model_selection import train_test_split\n",
    "from sklearn.preprocessing import StandardScaler\n",
    "from sklearn.linear_model import LinearRegression\n",
    "from sklearn.linear_model import Lasso\n",
    "from sklearn.linear_model import Ridge\n",
    "from sklearn.linear_model import ElasticNet\n",
    "from sklearn.metrics import mean_absolute_error,r2_score"
   ]
  },
  {
   "cell_type": "markdown",
   "metadata": {
    "id": "_cMqShNqeqdA"
   },
   "source": [
    "# **Project Work Flow**"
   ]
  },
  {
   "cell_type": "markdown",
   "metadata": {
    "id": "aSPZE8aT3SJj"
   },
   "source": [
    "## 1. **Data Exploration**"
   ]
  },
  {
   "cell_type": "markdown",
   "metadata": {
    "id": "Ojrmmft9uDit"
   },
   "source": [
    "Dive into an in-depth exploration of the dataset to gain insights into its structure, features, and distributions."
   ]
  },
  {
   "cell_type": "markdown",
   "metadata": {
    "id": "3RnN4peoiCZX"
   },
   "source": [
    "### Dataset Loading"
   ]
  },
  {
   "cell_type": "code",
   "execution_count": 2,
   "metadata": {
    "colab": {
     "base_uri": "https://localhost:8080/"
    },
    "executionInfo": {
     "elapsed": 3407,
     "status": "ok",
     "timestamp": 1729869680254,
     "user": {
      "displayName": "Bharathkumar Tamilarasu",
      "userId": "11189951727030054376"
     },
     "user_tz": -330
    },
    "id": "As7HAntEweX4",
    "outputId": "e5c6b776-db80-4dcb-c249-cef3ce117141"
   },
   "outputs": [
    {
     "name": "stdout",
     "output_type": "stream",
     "text": [
      "  day month  year Temperature  RH  Ws Rain   FFMC  DMC    DC  ISI  BUI  FWI  \\\n",
      "0  01    06  2012          29  57  18     0  65.7  3.4   7.6  1.3  3.4  0.5   \n",
      "1  02    06  2012          29  61  13   1.3  64.4  4.1   7.6    1  3.9  0.4   \n",
      "2  03    06  2012          26  82  22  13.1  47.1  2.5   7.1  0.3  2.7  0.1   \n",
      "3  04    06  2012          25  89  13   2.5  28.6  1.3   6.9    0  1.7    0   \n",
      "4  05    06  2012          27  77  16     0  64.8    3  14.2  1.2  3.9  0.5   \n",
      "\n",
      "     Classes    \n",
      "0  not fire     \n",
      "1  not fire     \n",
      "2  not fire     \n",
      "3  not fire     \n",
      "4  not fire     \n"
     ]
    }
   ],
   "source": [
    "import pandas as pd\n",
    "\n",
    "try:\n",
    "    from google.colab import drive\n",
    "    IN_COLAB = True  # Flag to indicate we are in Google Colab\n",
    "except ImportError:\n",
    "    IN_COLAB = False\n",
    "\n",
    "if IN_COLAB:\n",
    "    drive.mount('/content/drive')\n",
    "    csv_file = r'F:\\Ankith\\Project\\Python Projects\\fire prediction\\Data\\Algerian_forest_fires_dataset_UPDATE.csv'  # Original path\n",
    "else:\n",
    "    # If not in Colab, specify the local file path\n",
    "    csv_file = r'F:\\Ankith\\Project\\Python Projects\\fire prediction\\Data\\Algerian_forest_fires_dataset_UPDATE.csv'\n",
    "\n",
    "df1 = pd.read_csv(csv_file, header=1)\n",
    "\n",
    "print(df1.head())"
   ]
  },
  {
   "cell_type": "code",
   "execution_count": 3,
   "metadata": {
    "executionInfo": {
     "elapsed": 13,
     "status": "ok",
     "timestamp": 1729869680254,
     "user": {
      "displayName": "Bharathkumar Tamilarasu",
      "userId": "11189951727030054376"
     },
     "user_tz": -330
    },
    "id": "WIu12cSBPTR4"
   },
   "outputs": [],
   "source": [
    "# Loading Dataset\n",
    "df1 = pd.read_csv(r'F:\\Ankith\\Project\\Python Projects\\fire prediction\\Data\\Algerian_forest_fires_dataset_UPDATE.csv',header=1)"
   ]
  },
  {
   "cell_type": "markdown",
   "metadata": {
    "id": "x71ZqKXriCWQ"
   },
   "source": [
    "### Dataset First View"
   ]
  },
  {
   "cell_type": "code",
   "execution_count": 4,
   "metadata": {
    "colab": {
     "base_uri": "https://localhost:8080/",
     "height": 0
    },
    "executionInfo": {
     "elapsed": 12,
     "status": "ok",
     "timestamp": 1729869680254,
     "user": {
      "displayName": "Bharathkumar Tamilarasu",
      "userId": "11189951727030054376"
     },
     "user_tz": -330
    },
    "id": "LWNFOSvLl09H",
    "outputId": "b666a276-0d43-468e-ba34-6af6c254d391"
   },
   "outputs": [
    {
     "data": {
      "text/html": [
       "<div>\n",
       "<style scoped>\n",
       "    .dataframe tbody tr th:only-of-type {\n",
       "        vertical-align: middle;\n",
       "    }\n",
       "\n",
       "    .dataframe tbody tr th {\n",
       "        vertical-align: top;\n",
       "    }\n",
       "\n",
       "    .dataframe thead th {\n",
       "        text-align: right;\n",
       "    }\n",
       "</style>\n",
       "<table border=\"1\" class=\"dataframe\">\n",
       "  <thead>\n",
       "    <tr style=\"text-align: right;\">\n",
       "      <th></th>\n",
       "      <th>day</th>\n",
       "      <th>month</th>\n",
       "      <th>year</th>\n",
       "      <th>Temperature</th>\n",
       "      <th>RH</th>\n",
       "      <th>Ws</th>\n",
       "      <th>Rain</th>\n",
       "      <th>FFMC</th>\n",
       "      <th>DMC</th>\n",
       "      <th>DC</th>\n",
       "      <th>ISI</th>\n",
       "      <th>BUI</th>\n",
       "      <th>FWI</th>\n",
       "      <th>Classes</th>\n",
       "    </tr>\n",
       "  </thead>\n",
       "  <tbody>\n",
       "    <tr>\n",
       "      <th>0</th>\n",
       "      <td>01</td>\n",
       "      <td>06</td>\n",
       "      <td>2012</td>\n",
       "      <td>29</td>\n",
       "      <td>57</td>\n",
       "      <td>18</td>\n",
       "      <td>0</td>\n",
       "      <td>65.7</td>\n",
       "      <td>3.4</td>\n",
       "      <td>7.6</td>\n",
       "      <td>1.3</td>\n",
       "      <td>3.4</td>\n",
       "      <td>0.5</td>\n",
       "      <td>not fire</td>\n",
       "    </tr>\n",
       "    <tr>\n",
       "      <th>1</th>\n",
       "      <td>02</td>\n",
       "      <td>06</td>\n",
       "      <td>2012</td>\n",
       "      <td>29</td>\n",
       "      <td>61</td>\n",
       "      <td>13</td>\n",
       "      <td>1.3</td>\n",
       "      <td>64.4</td>\n",
       "      <td>4.1</td>\n",
       "      <td>7.6</td>\n",
       "      <td>1</td>\n",
       "      <td>3.9</td>\n",
       "      <td>0.4</td>\n",
       "      <td>not fire</td>\n",
       "    </tr>\n",
       "    <tr>\n",
       "      <th>2</th>\n",
       "      <td>03</td>\n",
       "      <td>06</td>\n",
       "      <td>2012</td>\n",
       "      <td>26</td>\n",
       "      <td>82</td>\n",
       "      <td>22</td>\n",
       "      <td>13.1</td>\n",
       "      <td>47.1</td>\n",
       "      <td>2.5</td>\n",
       "      <td>7.1</td>\n",
       "      <td>0.3</td>\n",
       "      <td>2.7</td>\n",
       "      <td>0.1</td>\n",
       "      <td>not fire</td>\n",
       "    </tr>\n",
       "    <tr>\n",
       "      <th>3</th>\n",
       "      <td>04</td>\n",
       "      <td>06</td>\n",
       "      <td>2012</td>\n",
       "      <td>25</td>\n",
       "      <td>89</td>\n",
       "      <td>13</td>\n",
       "      <td>2.5</td>\n",
       "      <td>28.6</td>\n",
       "      <td>1.3</td>\n",
       "      <td>6.9</td>\n",
       "      <td>0</td>\n",
       "      <td>1.7</td>\n",
       "      <td>0</td>\n",
       "      <td>not fire</td>\n",
       "    </tr>\n",
       "    <tr>\n",
       "      <th>4</th>\n",
       "      <td>05</td>\n",
       "      <td>06</td>\n",
       "      <td>2012</td>\n",
       "      <td>27</td>\n",
       "      <td>77</td>\n",
       "      <td>16</td>\n",
       "      <td>0</td>\n",
       "      <td>64.8</td>\n",
       "      <td>3</td>\n",
       "      <td>14.2</td>\n",
       "      <td>1.2</td>\n",
       "      <td>3.9</td>\n",
       "      <td>0.5</td>\n",
       "      <td>not fire</td>\n",
       "    </tr>\n",
       "  </tbody>\n",
       "</table>\n",
       "</div>"
      ],
      "text/plain": [
       "  day month  year Temperature  RH  Ws Rain   FFMC  DMC    DC  ISI  BUI  FWI  \\\n",
       "0  01    06  2012          29  57  18     0  65.7  3.4   7.6  1.3  3.4  0.5   \n",
       "1  02    06  2012          29  61  13   1.3  64.4  4.1   7.6    1  3.9  0.4   \n",
       "2  03    06  2012          26  82  22  13.1  47.1  2.5   7.1  0.3  2.7  0.1   \n",
       "3  04    06  2012          25  89  13   2.5  28.6  1.3   6.9    0  1.7    0   \n",
       "4  05    06  2012          27  77  16     0  64.8    3  14.2  1.2  3.9  0.5   \n",
       "\n",
       "     Classes    \n",
       "0  not fire     \n",
       "1  not fire     \n",
       "2  not fire     \n",
       "3  not fire     \n",
       "4  not fire     "
      ]
     },
     "execution_count": 4,
     "metadata": {},
     "output_type": "execute_result"
    }
   ],
   "source": [
    "# Dataset First Look\n",
    "df1.head()"
   ]
  },
  {
   "cell_type": "markdown",
   "metadata": {
    "id": "7hBIi_osiCS2"
   },
   "source": [
    "### Dataset Rows & Columns count"
   ]
  },
  {
   "cell_type": "code",
   "execution_count": 5,
   "metadata": {
    "colab": {
     "base_uri": "https://localhost:8080/"
    },
    "executionInfo": {
     "elapsed": 11,
     "status": "ok",
     "timestamp": 1729869680254,
     "user": {
      "displayName": "Bharathkumar Tamilarasu",
      "userId": "11189951727030054376"
     },
     "user_tz": -330
    },
    "id": "Kllu7SJgmLij",
    "outputId": "bcc80ca9-216f-4d80-c120-5acb2f21b8b4"
   },
   "outputs": [
    {
     "data": {
      "text/plain": [
       "(246, 14)"
      ]
     },
     "execution_count": 5,
     "metadata": {},
     "output_type": "execute_result"
    }
   ],
   "source": [
    "# Dataset Rows & Columns count\n",
    "df1.shape"
   ]
  },
  {
   "cell_type": "markdown",
   "metadata": {
    "id": "dK9Ea61QruZh"
   },
   "source": [
    "Obeservation: Dataset has 246 rows and 14 columns."
   ]
  },
  {
   "cell_type": "markdown",
   "metadata": {
    "id": "JlHwYmJAmNHm"
   },
   "source": [
    "### Dataset Insights"
   ]
  },
  {
   "cell_type": "code",
   "execution_count": 6,
   "metadata": {
    "colab": {
     "base_uri": "https://localhost:8080/"
    },
    "executionInfo": {
     "elapsed": 11,
     "status": "ok",
     "timestamp": 1729869680254,
     "user": {
      "displayName": "Bharathkumar Tamilarasu",
      "userId": "11189951727030054376"
     },
     "user_tz": -330
    },
    "id": "e9hRXRi6meOf",
    "outputId": "9600dc45-e199-4ee5-a866-c968fc8f879e"
   },
   "outputs": [
    {
     "name": "stdout",
     "output_type": "stream",
     "text": [
      "<class 'pandas.core.frame.DataFrame'>\n",
      "RangeIndex: 246 entries, 0 to 245\n",
      "Data columns (total 14 columns):\n",
      " #   Column       Non-Null Count  Dtype \n",
      "---  ------       --------------  ----- \n",
      " 0   day          246 non-null    object\n",
      " 1   month        245 non-null    object\n",
      " 2   year         245 non-null    object\n",
      " 3   Temperature  245 non-null    object\n",
      " 4    RH          245 non-null    object\n",
      " 5    Ws          245 non-null    object\n",
      " 6   Rain         245 non-null    object\n",
      " 7   FFMC         245 non-null    object\n",
      " 8   DMC          245 non-null    object\n",
      " 9   DC           245 non-null    object\n",
      " 10  ISI          245 non-null    object\n",
      " 11  BUI          245 non-null    object\n",
      " 12  FWI          245 non-null    object\n",
      " 13  Classes      244 non-null    object\n",
      "dtypes: object(14)\n",
      "memory usage: 27.0+ KB\n"
     ]
    }
   ],
   "source": [
    "# Dataset Info\n",
    "df1.info()"
   ]
  },
  {
   "cell_type": "markdown",
   "metadata": {
    "id": "35m5QtbWiB9F"
   },
   "source": [
    "#### Duplicate Values"
   ]
  },
  {
   "cell_type": "code",
   "execution_count": 7,
   "metadata": {
    "colab": {
     "base_uri": "https://localhost:8080/"
    },
    "executionInfo": {
     "elapsed": 10,
     "status": "ok",
     "timestamp": 1729869680254,
     "user": {
      "displayName": "Bharathkumar Tamilarasu",
      "userId": "11189951727030054376"
     },
     "user_tz": -330
    },
    "id": "1sLdpKYkmox0",
    "outputId": "52009b78-8182-48b0-e255-b94010312a9f"
   },
   "outputs": [
    {
     "name": "stdout",
     "output_type": "stream",
     "text": [
      "(0, 14)\n"
     ]
    }
   ],
   "source": [
    "# Dataset Duplicate Value Count\n",
    "print(df1[df1.duplicated() == True].shape)"
   ]
  },
  {
   "cell_type": "markdown",
   "metadata": {
    "id": "MVDE6X3brNJ3"
   },
   "source": [
    "Obeservation: Dataset doesnt contain any duplicate rows"
   ]
  },
  {
   "cell_type": "markdown",
   "metadata": {
    "id": "PoPl-ycgm1ru"
   },
   "source": [
    "#### Missing Values/Null Values"
   ]
  },
  {
   "cell_type": "code",
   "execution_count": 8,
   "metadata": {
    "colab": {
     "base_uri": "https://localhost:8080/",
     "height": 0
    },
    "executionInfo": {
     "elapsed": 10,
     "status": "ok",
     "timestamp": 1729869680254,
     "user": {
      "displayName": "Bharathkumar Tamilarasu",
      "userId": "11189951727030054376"
     },
     "user_tz": -330
    },
    "id": "GgHWkxvamxVg",
    "outputId": "0772589c-4dd1-43ba-8154-43db5ec5cece"
   },
   "outputs": [
    {
     "data": {
      "text/plain": [
       "day            0\n",
       "month          1\n",
       "year           1\n",
       "Temperature    1\n",
       " RH            1\n",
       " Ws            1\n",
       "Rain           1\n",
       "FFMC           1\n",
       "DMC            1\n",
       "DC             1\n",
       "ISI            1\n",
       "BUI            1\n",
       "FWI            1\n",
       "Classes        2\n",
       "dtype: int64"
      ]
     },
     "execution_count": 8,
     "metadata": {},
     "output_type": "execute_result"
    }
   ],
   "source": [
    "# Missing Values/Null Values Count\n",
    "df1.isna().sum()"
   ]
  },
  {
   "cell_type": "markdown",
   "metadata": {
    "id": "Hd5_EXIrraAj"
   },
   "source": [
    "Observation: We found missing values on all columns except 'Day' column\n"
   ]
  },
  {
   "cell_type": "markdown",
   "metadata": {
    "id": "nA9Y7ga8ng1Z"
   },
   "source": [
    "### Attributes Overview"
   ]
  },
  {
   "cell_type": "code",
   "execution_count": 9,
   "metadata": {
    "colab": {
     "base_uri": "https://localhost:8080/"
    },
    "executionInfo": {
     "elapsed": 9,
     "status": "ok",
     "timestamp": 1729869680254,
     "user": {
      "displayName": "Bharathkumar Tamilarasu",
      "userId": "11189951727030054376"
     },
     "user_tz": -330
    },
    "id": "j7xfkqrt5Ag5",
    "outputId": "cb93f59a-63f1-42b2-9d1a-48c7d87eaacf"
   },
   "outputs": [
    {
     "data": {
      "text/plain": [
       "Index(['day', 'month', 'year', 'Temperature', ' RH', ' Ws', 'Rain ', 'FFMC',\n",
       "       'DMC', 'DC', 'ISI', 'BUI', 'FWI', 'Classes  '],\n",
       "      dtype='object')"
      ]
     },
     "execution_count": 9,
     "metadata": {},
     "output_type": "execute_result"
    }
   ],
   "source": [
    "# Dataset Columns\n",
    "df1.columns"
   ]
  },
  {
   "cell_type": "code",
   "execution_count": 10,
   "metadata": {
    "colab": {
     "base_uri": "https://localhost:8080/",
     "height": 0
    },
    "executionInfo": {
     "elapsed": 9,
     "status": "ok",
     "timestamp": 1729869680254,
     "user": {
      "displayName": "Bharathkumar Tamilarasu",
      "userId": "11189951727030054376"
     },
     "user_tz": -330
    },
    "id": "DnOaZdaE5Q5t",
    "outputId": "4f2f1588-e018-46df-9b49-0dbd05c7a698"
   },
   "outputs": [
    {
     "data": {
      "text/html": [
       "<div>\n",
       "<style scoped>\n",
       "    .dataframe tbody tr th:only-of-type {\n",
       "        vertical-align: middle;\n",
       "    }\n",
       "\n",
       "    .dataframe tbody tr th {\n",
       "        vertical-align: top;\n",
       "    }\n",
       "\n",
       "    .dataframe thead th {\n",
       "        text-align: right;\n",
       "    }\n",
       "</style>\n",
       "<table border=\"1\" class=\"dataframe\">\n",
       "  <thead>\n",
       "    <tr style=\"text-align: right;\">\n",
       "      <th></th>\n",
       "      <th>day</th>\n",
       "      <th>month</th>\n",
       "      <th>year</th>\n",
       "      <th>Temperature</th>\n",
       "      <th>RH</th>\n",
       "      <th>Ws</th>\n",
       "      <th>Rain</th>\n",
       "      <th>FFMC</th>\n",
       "      <th>DMC</th>\n",
       "      <th>DC</th>\n",
       "      <th>ISI</th>\n",
       "      <th>BUI</th>\n",
       "      <th>FWI</th>\n",
       "      <th>Classes</th>\n",
       "    </tr>\n",
       "  </thead>\n",
       "  <tbody>\n",
       "    <tr>\n",
       "      <th>count</th>\n",
       "      <td>246</td>\n",
       "      <td>245</td>\n",
       "      <td>245</td>\n",
       "      <td>245</td>\n",
       "      <td>245</td>\n",
       "      <td>245</td>\n",
       "      <td>245</td>\n",
       "      <td>245</td>\n",
       "      <td>245</td>\n",
       "      <td>245</td>\n",
       "      <td>245</td>\n",
       "      <td>245</td>\n",
       "      <td>245</td>\n",
       "      <td>244</td>\n",
       "    </tr>\n",
       "    <tr>\n",
       "      <th>unique</th>\n",
       "      <td>33</td>\n",
       "      <td>5</td>\n",
       "      <td>2</td>\n",
       "      <td>20</td>\n",
       "      <td>63</td>\n",
       "      <td>19</td>\n",
       "      <td>40</td>\n",
       "      <td>174</td>\n",
       "      <td>167</td>\n",
       "      <td>199</td>\n",
       "      <td>107</td>\n",
       "      <td>175</td>\n",
       "      <td>128</td>\n",
       "      <td>9</td>\n",
       "    </tr>\n",
       "    <tr>\n",
       "      <th>top</th>\n",
       "      <td>01</td>\n",
       "      <td>07</td>\n",
       "      <td>2012</td>\n",
       "      <td>35</td>\n",
       "      <td>55</td>\n",
       "      <td>14</td>\n",
       "      <td>0</td>\n",
       "      <td>88.9</td>\n",
       "      <td>7.9</td>\n",
       "      <td>8</td>\n",
       "      <td>1.1</td>\n",
       "      <td>3</td>\n",
       "      <td>0.4</td>\n",
       "      <td>fire</td>\n",
       "    </tr>\n",
       "    <tr>\n",
       "      <th>freq</th>\n",
       "      <td>8</td>\n",
       "      <td>62</td>\n",
       "      <td>244</td>\n",
       "      <td>29</td>\n",
       "      <td>10</td>\n",
       "      <td>43</td>\n",
       "      <td>133</td>\n",
       "      <td>8</td>\n",
       "      <td>5</td>\n",
       "      <td>5</td>\n",
       "      <td>8</td>\n",
       "      <td>5</td>\n",
       "      <td>12</td>\n",
       "      <td>131</td>\n",
       "    </tr>\n",
       "  </tbody>\n",
       "</table>\n",
       "</div>"
      ],
      "text/plain": [
       "        day month  year Temperature   RH   Ws Rain   FFMC  DMC   DC  ISI  BUI  \\\n",
       "count   246   245   245         245  245  245   245   245  245  245  245  245   \n",
       "unique   33     5     2          20   63   19    40   174  167  199  107  175   \n",
       "top      01    07  2012          35   55   14     0  88.9  7.9    8  1.1    3   \n",
       "freq      8    62   244          29   10   43   133     8    5    5    8    5   \n",
       "\n",
       "        FWI Classes    \n",
       "count   245       244  \n",
       "unique  128         9  \n",
       "top     0.4   fire     \n",
       "freq     12       131  "
      ]
     },
     "execution_count": 10,
     "metadata": {},
     "output_type": "execute_result"
    }
   ],
   "source": [
    "# Dataset Describe\n",
    "df1.describe(include = 'all')"
   ]
  },
  {
   "cell_type": "markdown",
   "metadata": {
    "id": "EA58QkPgCw2i"
   },
   "source": [
    "## **2. Data Wrangling**"
   ]
  },
  {
   "cell_type": "markdown",
   "metadata": {
    "id": "0HRH1XjdvYTT"
   },
   "source": [
    "Perform data cleaning, handle missing values, and transform the data into a suitable format for analysis."
   ]
  },
  {
   "cell_type": "code",
   "execution_count": 11,
   "metadata": {
    "executionInfo": {
     "elapsed": 8,
     "status": "ok",
     "timestamp": 1729869680254,
     "user": {
      "displayName": "Bharathkumar Tamilarasu",
      "userId": "11189951727030054376"
     },
     "user_tz": -330
    },
    "id": "kRCH3FlzvMw-"
   },
   "outputs": [],
   "source": [
    "df2 = df1.copy()"
   ]
  },
  {
   "cell_type": "code",
   "execution_count": 12,
   "metadata": {
    "colab": {
     "base_uri": "https://localhost:8080/"
    },
    "executionInfo": {
     "elapsed": 8,
     "status": "ok",
     "timestamp": 1729869680254,
     "user": {
      "displayName": "Bharathkumar Tamilarasu",
      "userId": "11189951727030054376"
     },
     "user_tz": -330
    },
    "id": "gGaS5abODHiZ",
    "outputId": "2ea5c904-63a5-49b8-e73c-de1558705f5c"
   },
   "outputs": [
    {
     "name": "stdout",
     "output_type": "stream",
     "text": [
      "<class 'pandas.core.frame.DataFrame'>\n",
      "RangeIndex: 246 entries, 0 to 245\n",
      "Data columns (total 14 columns):\n",
      " #   Column       Non-Null Count  Dtype \n",
      "---  ------       --------------  ----- \n",
      " 0   day          246 non-null    object\n",
      " 1   month        245 non-null    object\n",
      " 2   year         245 non-null    object\n",
      " 3   Temperature  245 non-null    object\n",
      " 4    RH          245 non-null    object\n",
      " 5    Ws          245 non-null    object\n",
      " 6   Rain         245 non-null    object\n",
      " 7   FFMC         245 non-null    object\n",
      " 8   DMC          245 non-null    object\n",
      " 9   DC           245 non-null    object\n",
      " 10  ISI          245 non-null    object\n",
      " 11  BUI          245 non-null    object\n",
      " 12  FWI          245 non-null    object\n",
      " 13  Classes      244 non-null    object\n",
      "dtypes: object(14)\n",
      "memory usage: 27.0+ KB\n"
     ]
    }
   ],
   "source": [
    "# Data Set information before wrangling\n",
    "df2.info()"
   ]
  },
  {
   "cell_type": "markdown",
   "metadata": {
    "id": "pIqUNzMswS_f"
   },
   "source": [
    "### i) Dropping Unnecessary Rows"
   ]
  },
  {
   "cell_type": "code",
   "execution_count": 13,
   "metadata": {
    "colab": {
     "base_uri": "https://localhost:8080/",
     "height": 0
    },
    "executionInfo": {
     "elapsed": 7,
     "status": "ok",
     "timestamp": 1729869680254,
     "user": {
      "displayName": "Bharathkumar Tamilarasu",
      "userId": "11189951727030054376"
     },
     "user_tz": -330
    },
    "id": "Iok-Pi0kscCh",
    "outputId": "78d1bf99-4169-4aac-f18d-3b594eb17b59"
   },
   "outputs": [
    {
     "data": {
      "text/html": [
       "<div>\n",
       "<style scoped>\n",
       "    .dataframe tbody tr th:only-of-type {\n",
       "        vertical-align: middle;\n",
       "    }\n",
       "\n",
       "    .dataframe tbody tr th {\n",
       "        vertical-align: top;\n",
       "    }\n",
       "\n",
       "    .dataframe thead th {\n",
       "        text-align: right;\n",
       "    }\n",
       "</style>\n",
       "<table border=\"1\" class=\"dataframe\">\n",
       "  <thead>\n",
       "    <tr style=\"text-align: right;\">\n",
       "      <th></th>\n",
       "      <th>day</th>\n",
       "      <th>month</th>\n",
       "      <th>year</th>\n",
       "      <th>Temperature</th>\n",
       "      <th>RH</th>\n",
       "      <th>Ws</th>\n",
       "      <th>Rain</th>\n",
       "      <th>FFMC</th>\n",
       "      <th>DMC</th>\n",
       "      <th>DC</th>\n",
       "      <th>ISI</th>\n",
       "      <th>BUI</th>\n",
       "      <th>FWI</th>\n",
       "      <th>Classes</th>\n",
       "    </tr>\n",
       "  </thead>\n",
       "  <tbody>\n",
       "    <tr>\n",
       "      <th>120</th>\n",
       "      <td>29</td>\n",
       "      <td>09</td>\n",
       "      <td>2012</td>\n",
       "      <td>26</td>\n",
       "      <td>80</td>\n",
       "      <td>16</td>\n",
       "      <td>1.8</td>\n",
       "      <td>47.4</td>\n",
       "      <td>2.9</td>\n",
       "      <td>7.7</td>\n",
       "      <td>0.3</td>\n",
       "      <td>3</td>\n",
       "      <td>0.1</td>\n",
       "      <td>not fire</td>\n",
       "    </tr>\n",
       "    <tr>\n",
       "      <th>121</th>\n",
       "      <td>30</td>\n",
       "      <td>09</td>\n",
       "      <td>2012</td>\n",
       "      <td>25</td>\n",
       "      <td>78</td>\n",
       "      <td>14</td>\n",
       "      <td>1.4</td>\n",
       "      <td>45</td>\n",
       "      <td>1.9</td>\n",
       "      <td>7.5</td>\n",
       "      <td>0.2</td>\n",
       "      <td>2.4</td>\n",
       "      <td>0.1</td>\n",
       "      <td>not fire</td>\n",
       "    </tr>\n",
       "    <tr>\n",
       "      <th>122</th>\n",
       "      <td>Sidi-Bel Abbes Region Dataset</td>\n",
       "      <td>NaN</td>\n",
       "      <td>NaN</td>\n",
       "      <td>NaN</td>\n",
       "      <td>NaN</td>\n",
       "      <td>NaN</td>\n",
       "      <td>NaN</td>\n",
       "      <td>NaN</td>\n",
       "      <td>NaN</td>\n",
       "      <td>NaN</td>\n",
       "      <td>NaN</td>\n",
       "      <td>NaN</td>\n",
       "      <td>NaN</td>\n",
       "      <td>NaN</td>\n",
       "    </tr>\n",
       "    <tr>\n",
       "      <th>123</th>\n",
       "      <td>day</td>\n",
       "      <td>month</td>\n",
       "      <td>year</td>\n",
       "      <td>Temperature</td>\n",
       "      <td>RH</td>\n",
       "      <td>Ws</td>\n",
       "      <td>Rain</td>\n",
       "      <td>FFMC</td>\n",
       "      <td>DMC</td>\n",
       "      <td>DC</td>\n",
       "      <td>ISI</td>\n",
       "      <td>BUI</td>\n",
       "      <td>FWI</td>\n",
       "      <td>Classes</td>\n",
       "    </tr>\n",
       "    <tr>\n",
       "      <th>124</th>\n",
       "      <td>01</td>\n",
       "      <td>06</td>\n",
       "      <td>2012</td>\n",
       "      <td>32</td>\n",
       "      <td>71</td>\n",
       "      <td>12</td>\n",
       "      <td>0.7</td>\n",
       "      <td>57.1</td>\n",
       "      <td>2.5</td>\n",
       "      <td>8.2</td>\n",
       "      <td>0.6</td>\n",
       "      <td>2.8</td>\n",
       "      <td>0.2</td>\n",
       "      <td>not fire</td>\n",
       "    </tr>\n",
       "    <tr>\n",
       "      <th>125</th>\n",
       "      <td>02</td>\n",
       "      <td>06</td>\n",
       "      <td>2012</td>\n",
       "      <td>30</td>\n",
       "      <td>73</td>\n",
       "      <td>13</td>\n",
       "      <td>4</td>\n",
       "      <td>55.7</td>\n",
       "      <td>2.7</td>\n",
       "      <td>7.8</td>\n",
       "      <td>0.6</td>\n",
       "      <td>2.9</td>\n",
       "      <td>0.2</td>\n",
       "      <td>not fire</td>\n",
       "    </tr>\n",
       "    <tr>\n",
       "      <th>126</th>\n",
       "      <td>03</td>\n",
       "      <td>06</td>\n",
       "      <td>2012</td>\n",
       "      <td>29</td>\n",
       "      <td>80</td>\n",
       "      <td>14</td>\n",
       "      <td>2</td>\n",
       "      <td>48.7</td>\n",
       "      <td>2.2</td>\n",
       "      <td>7.6</td>\n",
       "      <td>0.3</td>\n",
       "      <td>2.6</td>\n",
       "      <td>0.1</td>\n",
       "      <td>not fire</td>\n",
       "    </tr>\n",
       "    <tr>\n",
       "      <th>127</th>\n",
       "      <td>04</td>\n",
       "      <td>06</td>\n",
       "      <td>2012</td>\n",
       "      <td>30</td>\n",
       "      <td>64</td>\n",
       "      <td>14</td>\n",
       "      <td>0</td>\n",
       "      <td>79.4</td>\n",
       "      <td>5.2</td>\n",
       "      <td>15.4</td>\n",
       "      <td>2.2</td>\n",
       "      <td>5.6</td>\n",
       "      <td>1</td>\n",
       "      <td>not fire</td>\n",
       "    </tr>\n",
       "    <tr>\n",
       "      <th>128</th>\n",
       "      <td>05</td>\n",
       "      <td>06</td>\n",
       "      <td>2012</td>\n",
       "      <td>32</td>\n",
       "      <td>60</td>\n",
       "      <td>14</td>\n",
       "      <td>0.2</td>\n",
       "      <td>77.1</td>\n",
       "      <td>6</td>\n",
       "      <td>17.6</td>\n",
       "      <td>1.8</td>\n",
       "      <td>6.5</td>\n",
       "      <td>0.9</td>\n",
       "      <td>not fire</td>\n",
       "    </tr>\n",
       "    <tr>\n",
       "      <th>129</th>\n",
       "      <td>06</td>\n",
       "      <td>06</td>\n",
       "      <td>2012</td>\n",
       "      <td>35</td>\n",
       "      <td>54</td>\n",
       "      <td>11</td>\n",
       "      <td>0.1</td>\n",
       "      <td>83.7</td>\n",
       "      <td>8.4</td>\n",
       "      <td>26.3</td>\n",
       "      <td>3.1</td>\n",
       "      <td>9.3</td>\n",
       "      <td>3.1</td>\n",
       "      <td>fire</td>\n",
       "    </tr>\n",
       "    <tr>\n",
       "      <th>130</th>\n",
       "      <td>07</td>\n",
       "      <td>06</td>\n",
       "      <td>2012</td>\n",
       "      <td>35</td>\n",
       "      <td>44</td>\n",
       "      <td>17</td>\n",
       "      <td>0.2</td>\n",
       "      <td>85.6</td>\n",
       "      <td>9.9</td>\n",
       "      <td>28.9</td>\n",
       "      <td>5.4</td>\n",
       "      <td>10.7</td>\n",
       "      <td>6</td>\n",
       "      <td>fire</td>\n",
       "    </tr>\n",
       "  </tbody>\n",
       "</table>\n",
       "</div>"
      ],
      "text/plain": [
       "                               day  month  year  Temperature   RH   Ws  Rain   \\\n",
       "120                             29     09  2012           26   80   16    1.8   \n",
       "121                             30     09  2012           25   78   14    1.4   \n",
       "122  Sidi-Bel Abbes Region Dataset    NaN   NaN          NaN  NaN  NaN    NaN   \n",
       "123                            day  month  year  Temperature   RH   Ws  Rain    \n",
       "124                             01     06  2012           32   71   12    0.7   \n",
       "125                             02     06  2012           30   73   13      4   \n",
       "126                             03     06  2012           29   80   14      2   \n",
       "127                             04     06  2012           30   64   14      0   \n",
       "128                             05     06  2012           32   60   14    0.2   \n",
       "129                             06     06  2012           35   54   11    0.1   \n",
       "130                             07     06  2012           35   44   17    0.2   \n",
       "\n",
       "     FFMC  DMC    DC  ISI   BUI  FWI    Classes    \n",
       "120  47.4  2.9   7.7  0.3     3  0.1  not fire     \n",
       "121    45  1.9   7.5  0.2   2.4  0.1  not fire     \n",
       "122   NaN  NaN   NaN  NaN   NaN  NaN          NaN  \n",
       "123  FFMC  DMC    DC  ISI   BUI  FWI    Classes    \n",
       "124  57.1  2.5   8.2  0.6   2.8  0.2  not fire     \n",
       "125  55.7  2.7   7.8  0.6   2.9  0.2  not fire     \n",
       "126  48.7  2.2   7.6  0.3   2.6  0.1  not fire     \n",
       "127  79.4  5.2  15.4  2.2   5.6    1  not fire     \n",
       "128  77.1    6  17.6  1.8   6.5  0.9  not fire     \n",
       "129  83.7  8.4  26.3  3.1   9.3  3.1      fire     \n",
       "130  85.6  9.9  28.9  5.4  10.7    6      fire     "
      ]
     },
     "execution_count": 13,
     "metadata": {},
     "output_type": "execute_result"
    }
   ],
   "source": [
    "# Identified Unnecessary Rows (i.e 122& 123)\n",
    "\n",
    "df2.loc[120:130,:]"
   ]
  },
  {
   "cell_type": "code",
   "execution_count": 14,
   "metadata": {
    "executionInfo": {
     "elapsed": 7,
     "status": "ok",
     "timestamp": 1729869680254,
     "user": {
      "displayName": "Bharathkumar Tamilarasu",
      "userId": "11189951727030054376"
     },
     "user_tz": -330
    },
    "id": "2d-p9kGIsVeM"
   },
   "outputs": [],
   "source": [
    "# Dropping those rows\n",
    "\n",
    "df2.drop([122,123],axis=0,inplace=True)\n",
    "df2.reset_index(drop=True,inplace=True)"
   ]
  },
  {
   "cell_type": "markdown",
   "metadata": {
    "id": "H_e165WhwZfR"
   },
   "source": [
    "### ii) Dropping NA Rows"
   ]
  },
  {
   "cell_type": "code",
   "execution_count": 15,
   "metadata": {
    "colab": {
     "base_uri": "https://localhost:8080/",
     "height": 0
    },
    "executionInfo": {
     "elapsed": 500,
     "status": "ok",
     "timestamp": 1729869680747,
     "user": {
      "displayName": "Bharathkumar Tamilarasu",
      "userId": "11189951727030054376"
     },
     "user_tz": -330
    },
    "id": "qka_c92Wsoj3",
    "outputId": "1ada6a50-6bc9-491c-eb2e-a56e8b566242"
   },
   "outputs": [
    {
     "data": {
      "text/html": [
       "<div>\n",
       "<style scoped>\n",
       "    .dataframe tbody tr th:only-of-type {\n",
       "        vertical-align: middle;\n",
       "    }\n",
       "\n",
       "    .dataframe tbody tr th {\n",
       "        vertical-align: top;\n",
       "    }\n",
       "\n",
       "    .dataframe thead th {\n",
       "        text-align: right;\n",
       "    }\n",
       "</style>\n",
       "<table border=\"1\" class=\"dataframe\">\n",
       "  <thead>\n",
       "    <tr style=\"text-align: right;\">\n",
       "      <th></th>\n",
       "      <th>day</th>\n",
       "      <th>month</th>\n",
       "      <th>year</th>\n",
       "      <th>Temperature</th>\n",
       "      <th>RH</th>\n",
       "      <th>Ws</th>\n",
       "      <th>Rain</th>\n",
       "      <th>FFMC</th>\n",
       "      <th>DMC</th>\n",
       "      <th>DC</th>\n",
       "      <th>ISI</th>\n",
       "      <th>BUI</th>\n",
       "      <th>FWI</th>\n",
       "      <th>Classes</th>\n",
       "    </tr>\n",
       "  </thead>\n",
       "  <tbody>\n",
       "    <tr>\n",
       "      <th>165</th>\n",
       "      <td>14</td>\n",
       "      <td>07</td>\n",
       "      <td>2012</td>\n",
       "      <td>37</td>\n",
       "      <td>37</td>\n",
       "      <td>18</td>\n",
       "      <td>0.2</td>\n",
       "      <td>88.9</td>\n",
       "      <td>12.9</td>\n",
       "      <td>14.6 9</td>\n",
       "      <td>12.5</td>\n",
       "      <td>10.4</td>\n",
       "      <td>fire</td>\n",
       "      <td>NaN</td>\n",
       "    </tr>\n",
       "  </tbody>\n",
       "</table>\n",
       "</div>"
      ],
      "text/plain": [
       "    day month  year Temperature  RH  Ws Rain   FFMC   DMC      DC   ISI   BUI  \\\n",
       "165  14    07  2012          37  37  18   0.2  88.9  12.9  14.6 9  12.5  10.4   \n",
       "\n",
       "         FWI Classes    \n",
       "165  fire          NaN  "
      ]
     },
     "execution_count": 15,
     "metadata": {},
     "output_type": "execute_result"
    }
   ],
   "source": [
    "# Checking if any rows have a null value\n",
    "\n",
    "df2[df2.isnull().any(axis=1)]"
   ]
  },
  {
   "cell_type": "code",
   "execution_count": 16,
   "metadata": {
    "executionInfo": {
     "elapsed": 11,
     "status": "ok",
     "timestamp": 1729869680747,
     "user": {
      "displayName": "Bharathkumar Tamilarasu",
      "userId": "11189951727030054376"
     },
     "user_tz": -330
    },
    "id": "PRQZmSTGEJmd"
   },
   "outputs": [],
   "source": [
    "# Dropping the rows containing null values\n",
    "\n",
    "df2.dropna(inplace=True)\n",
    "df2.reset_index(drop=True,inplace=True)"
   ]
  },
  {
   "cell_type": "markdown",
   "metadata": {
    "id": "lzpoQ-WJwp99"
   },
   "source": [
    "### iii) Handling Columns"
   ]
  },
  {
   "cell_type": "code",
   "execution_count": 17,
   "metadata": {
    "executionInfo": {
     "elapsed": 10,
     "status": "ok",
     "timestamp": 1729869680747,
     "user": {
      "displayName": "Bharathkumar Tamilarasu",
      "userId": "11189951727030054376"
     },
     "user_tz": -330
    },
    "id": "gJ1LWqv_w1mw"
   },
   "outputs": [],
   "source": [
    "df3 = df2.copy()"
   ]
  },
  {
   "cell_type": "code",
   "execution_count": 18,
   "metadata": {
    "colab": {
     "base_uri": "https://localhost:8080/"
    },
    "executionInfo": {
     "elapsed": 10,
     "status": "ok",
     "timestamp": 1729869680747,
     "user": {
      "displayName": "Bharathkumar Tamilarasu",
      "userId": "11189951727030054376"
     },
     "user_tz": -330
    },
    "id": "tB2BpQ2jGRIt",
    "outputId": "1bd54197-a62d-4783-d9d8-8b3a441f05d1"
   },
   "outputs": [
    {
     "data": {
      "text/plain": [
       "Index(['day', 'month', 'year', 'Temperature', 'RH', 'Ws', 'Rain', 'FFMC',\n",
       "       'DMC', 'DC', 'ISI', 'BUI', 'FWI', 'Classes'],\n",
       "      dtype='object')"
      ]
     },
     "execution_count": 18,
     "metadata": {},
     "output_type": "execute_result"
    }
   ],
   "source": [
    "# Removing the extra spaces in column names\n",
    "\n",
    "df3.columns = df3.columns.str.strip()\n",
    "df3.columns"
   ]
  },
  {
   "cell_type": "code",
   "execution_count": 19,
   "metadata": {
    "executionInfo": {
     "elapsed": 10,
     "status": "ok",
     "timestamp": 1729869680747,
     "user": {
      "displayName": "Bharathkumar Tamilarasu",
      "userId": "11189951727030054376"
     },
     "user_tz": -330
    },
    "id": "xuDf9fhRtQs1"
   },
   "outputs": [],
   "source": [
    "# Adding a Region column\n",
    "\n",
    "# Label 0 for Bejaia Region\n",
    "# Label 1 for Sidi-Bel Abbes Region\n",
    "\n",
    "df3.loc[:121,'Region']=0\n",
    "df3.loc[122:,'Region']=1"
   ]
  },
  {
   "cell_type": "markdown",
   "metadata": {
    "id": "M92dorUJt3EL"
   },
   "source": [
    "The dataset is converted into two sets based on Region. Added a new column 'Region'\n",
    "\n",
    "0 : \"Bejaia Region\" - From 0th - 121st Index\n",
    "\n",
    "1 : \"Sidi-Bel Abbes Region\" - From 122nd - 243rd Index\n",
    "\n"
   ]
  },
  {
   "cell_type": "code",
   "execution_count": 20,
   "metadata": {
    "executionInfo": {
     "elapsed": 10,
     "status": "ok",
     "timestamp": 1729869680747,
     "user": {
      "displayName": "Bharathkumar Tamilarasu",
      "userId": "11189951727030054376"
     },
     "user_tz": -330
    },
    "id": "DfkDdMFyF_yb"
   },
   "outputs": [],
   "source": [
    "# Changing Data Types of the columns\n",
    "\n",
    "columns_tobechanged_int = ['day', 'month', 'year', 'Temperature', 'RH', 'Ws','Region']\n",
    "df3[columns_tobechanged_int]=df3[columns_tobechanged_int].astype(int)\n",
    "\n",
    "columns_tobechanged_float = [col for col in df3.columns if (df3[col].dtype==object) and col!='Classes']\n",
    "df3[columns_tobechanged_float]=df3[columns_tobechanged_float].astype(float)"
   ]
  },
  {
   "cell_type": "code",
   "execution_count": 21,
   "metadata": {
    "executionInfo": {
     "elapsed": 9,
     "status": "ok",
     "timestamp": 1729869680747,
     "user": {
      "displayName": "Bharathkumar Tamilarasu",
      "userId": "11189951727030054376"
     },
     "user_tz": -330
    },
    "id": "Bmkr0nIwmKo3"
   },
   "outputs": [],
   "source": [
    "# Removing additional spaces of the categorical values of 'Classes' column\n",
    "\n",
    "df3['Classes']=df3['Classes'].str.strip()"
   ]
  },
  {
   "cell_type": "code",
   "execution_count": 22,
   "metadata": {
    "colab": {
     "base_uri": "https://localhost:8080/"
    },
    "executionInfo": {
     "elapsed": 9,
     "status": "ok",
     "timestamp": 1729869680747,
     "user": {
      "displayName": "Bharathkumar Tamilarasu",
      "userId": "11189951727030054376"
     },
     "user_tz": -330
    },
    "id": "rmBZxKcfhbI0",
    "outputId": "368d585e-aa90-4fe9-ec42-991518151b66"
   },
   "outputs": [
    {
     "name": "stdout",
     "output_type": "stream",
     "text": [
      "<class 'pandas.core.frame.DataFrame'>\n",
      "RangeIndex: 243 entries, 0 to 242\n",
      "Data columns (total 15 columns):\n",
      " #   Column       Non-Null Count  Dtype  \n",
      "---  ------       --------------  -----  \n",
      " 0   day          243 non-null    int64  \n",
      " 1   month        243 non-null    int64  \n",
      " 2   year         243 non-null    int64  \n",
      " 3   Temperature  243 non-null    int64  \n",
      " 4   RH           243 non-null    int64  \n",
      " 5   Ws           243 non-null    int64  \n",
      " 6   Rain         243 non-null    float64\n",
      " 7   FFMC         243 non-null    float64\n",
      " 8   DMC          243 non-null    float64\n",
      " 9   DC           243 non-null    float64\n",
      " 10  ISI          243 non-null    float64\n",
      " 11  BUI          243 non-null    float64\n",
      " 12  FWI          243 non-null    float64\n",
      " 13  Classes      243 non-null    object \n",
      " 14  Region       243 non-null    int64  \n",
      "dtypes: float64(7), int64(7), object(1)\n",
      "memory usage: 28.6+ KB\n"
     ]
    }
   ],
   "source": [
    "# Data Set information after wrangling\n",
    "\n",
    "df3.info()"
   ]
  },
  {
   "cell_type": "code",
   "execution_count": 23,
   "metadata": {
    "colab": {
     "base_uri": "https://localhost:8080/",
     "height": 0
    },
    "executionInfo": {
     "elapsed": 9,
     "status": "ok",
     "timestamp": 1729869680747,
     "user": {
      "displayName": "Bharathkumar Tamilarasu",
      "userId": "11189951727030054376"
     },
     "user_tz": -330
    },
    "id": "aWv78zY3K-rl",
    "outputId": "1ce71106-60a9-4b16-b5b6-abb7a78dc47b"
   },
   "outputs": [
    {
     "data": {
      "text/html": [
       "<div>\n",
       "<style scoped>\n",
       "    .dataframe tbody tr th:only-of-type {\n",
       "        vertical-align: middle;\n",
       "    }\n",
       "\n",
       "    .dataframe tbody tr th {\n",
       "        vertical-align: top;\n",
       "    }\n",
       "\n",
       "    .dataframe thead th {\n",
       "        text-align: right;\n",
       "    }\n",
       "</style>\n",
       "<table border=\"1\" class=\"dataframe\">\n",
       "  <thead>\n",
       "    <tr style=\"text-align: right;\">\n",
       "      <th></th>\n",
       "      <th>day</th>\n",
       "      <th>month</th>\n",
       "      <th>year</th>\n",
       "      <th>Temperature</th>\n",
       "      <th>RH</th>\n",
       "      <th>Ws</th>\n",
       "      <th>Rain</th>\n",
       "      <th>FFMC</th>\n",
       "      <th>DMC</th>\n",
       "      <th>DC</th>\n",
       "      <th>ISI</th>\n",
       "      <th>BUI</th>\n",
       "      <th>FWI</th>\n",
       "      <th>Classes</th>\n",
       "      <th>Region</th>\n",
       "    </tr>\n",
       "  </thead>\n",
       "  <tbody>\n",
       "    <tr>\n",
       "      <th>0</th>\n",
       "      <td>1</td>\n",
       "      <td>6</td>\n",
       "      <td>2012</td>\n",
       "      <td>29</td>\n",
       "      <td>57</td>\n",
       "      <td>18</td>\n",
       "      <td>0.0</td>\n",
       "      <td>65.7</td>\n",
       "      <td>3.4</td>\n",
       "      <td>7.6</td>\n",
       "      <td>1.3</td>\n",
       "      <td>3.4</td>\n",
       "      <td>0.5</td>\n",
       "      <td>not fire</td>\n",
       "      <td>0</td>\n",
       "    </tr>\n",
       "    <tr>\n",
       "      <th>1</th>\n",
       "      <td>2</td>\n",
       "      <td>6</td>\n",
       "      <td>2012</td>\n",
       "      <td>29</td>\n",
       "      <td>61</td>\n",
       "      <td>13</td>\n",
       "      <td>1.3</td>\n",
       "      <td>64.4</td>\n",
       "      <td>4.1</td>\n",
       "      <td>7.6</td>\n",
       "      <td>1.0</td>\n",
       "      <td>3.9</td>\n",
       "      <td>0.4</td>\n",
       "      <td>not fire</td>\n",
       "      <td>0</td>\n",
       "    </tr>\n",
       "    <tr>\n",
       "      <th>2</th>\n",
       "      <td>3</td>\n",
       "      <td>6</td>\n",
       "      <td>2012</td>\n",
       "      <td>26</td>\n",
       "      <td>82</td>\n",
       "      <td>22</td>\n",
       "      <td>13.1</td>\n",
       "      <td>47.1</td>\n",
       "      <td>2.5</td>\n",
       "      <td>7.1</td>\n",
       "      <td>0.3</td>\n",
       "      <td>2.7</td>\n",
       "      <td>0.1</td>\n",
       "      <td>not fire</td>\n",
       "      <td>0</td>\n",
       "    </tr>\n",
       "    <tr>\n",
       "      <th>3</th>\n",
       "      <td>4</td>\n",
       "      <td>6</td>\n",
       "      <td>2012</td>\n",
       "      <td>25</td>\n",
       "      <td>89</td>\n",
       "      <td>13</td>\n",
       "      <td>2.5</td>\n",
       "      <td>28.6</td>\n",
       "      <td>1.3</td>\n",
       "      <td>6.9</td>\n",
       "      <td>0.0</td>\n",
       "      <td>1.7</td>\n",
       "      <td>0.0</td>\n",
       "      <td>not fire</td>\n",
       "      <td>0</td>\n",
       "    </tr>\n",
       "    <tr>\n",
       "      <th>4</th>\n",
       "      <td>5</td>\n",
       "      <td>6</td>\n",
       "      <td>2012</td>\n",
       "      <td>27</td>\n",
       "      <td>77</td>\n",
       "      <td>16</td>\n",
       "      <td>0.0</td>\n",
       "      <td>64.8</td>\n",
       "      <td>3.0</td>\n",
       "      <td>14.2</td>\n",
       "      <td>1.2</td>\n",
       "      <td>3.9</td>\n",
       "      <td>0.5</td>\n",
       "      <td>not fire</td>\n",
       "      <td>0</td>\n",
       "    </tr>\n",
       "  </tbody>\n",
       "</table>\n",
       "</div>"
      ],
      "text/plain": [
       "   day  month  year  Temperature  RH  Ws  Rain  FFMC  DMC    DC  ISI  BUI  \\\n",
       "0    1      6  2012           29  57  18   0.0  65.7  3.4   7.6  1.3  3.4   \n",
       "1    2      6  2012           29  61  13   1.3  64.4  4.1   7.6  1.0  3.9   \n",
       "2    3      6  2012           26  82  22  13.1  47.1  2.5   7.1  0.3  2.7   \n",
       "3    4      6  2012           25  89  13   2.5  28.6  1.3   6.9  0.0  1.7   \n",
       "4    5      6  2012           27  77  16   0.0  64.8  3.0  14.2  1.2  3.9   \n",
       "\n",
       "   FWI   Classes  Region  \n",
       "0  0.5  not fire       0  \n",
       "1  0.4  not fire       0  \n",
       "2  0.1  not fire       0  \n",
       "3  0.0  not fire       0  \n",
       "4  0.5  not fire       0  "
      ]
     },
     "execution_count": 23,
     "metadata": {},
     "output_type": "execute_result"
    }
   ],
   "source": [
    "df3.head()"
   ]
  },
  {
   "cell_type": "code",
   "execution_count": 24,
   "metadata": {
    "executionInfo": {
     "elapsed": 9,
     "status": "ok",
     "timestamp": 1729869680748,
     "user": {
      "displayName": "Bharathkumar Tamilarasu",
      "userId": "11189951727030054376"
     },
     "user_tz": -330
    },
    "id": "KnUkxTtUhbGw"
   },
   "outputs": [],
   "source": [
    "# Saving the cleaned Data Set\n",
    "\n",
    "df3.to_csv(r'F:\\Ankith\\Project\\Python Projects\\fire prediction\\Data\\Algerian_forest_fires_dataset_cleaned.csv',index=False)"
   ]
  },
  {
   "cell_type": "markdown",
   "metadata": {
    "id": "6kRlygfMM6qD"
   },
   "source": [
    "## **3. Exploratory Data Analysis**"
   ]
  },
  {
   "cell_type": "markdown",
   "metadata": {
    "id": "IyfvggOBva9F"
   },
   "source": [
    "Conduct EDA to uncover patterns, trends, and relationships within the data using visualizations and statistical analyses."
   ]
  },
  {
   "cell_type": "code",
   "execution_count": 25,
   "metadata": {
    "executionInfo": {
     "elapsed": 9,
     "status": "ok",
     "timestamp": 1729869680748,
     "user": {
      "displayName": "Bharathkumar Tamilarasu",
      "userId": "11189951727030054376"
     },
     "user_tz": -330
    },
    "id": "lFxCSF_RxLtk"
   },
   "outputs": [],
   "source": [
    "df4 = df3.copy()"
   ]
  },
  {
   "cell_type": "code",
   "execution_count": 26,
   "metadata": {
    "colab": {
     "base_uri": "https://localhost:8080/",
     "height": 206
    },
    "executionInfo": {
     "elapsed": 9,
     "status": "ok",
     "timestamp": 1729869680748,
     "user": {
      "displayName": "Bharathkumar Tamilarasu",
      "userId": "11189951727030054376"
     },
     "user_tz": -330
    },
    "id": "UvZpHp63hbEJ",
    "outputId": "47de4465-3e9e-44bf-f835-d235627f160c"
   },
   "outputs": [
    {
     "data": {
      "text/html": [
       "<div>\n",
       "<style scoped>\n",
       "    .dataframe tbody tr th:only-of-type {\n",
       "        vertical-align: middle;\n",
       "    }\n",
       "\n",
       "    .dataframe tbody tr th {\n",
       "        vertical-align: top;\n",
       "    }\n",
       "\n",
       "    .dataframe thead th {\n",
       "        text-align: right;\n",
       "    }\n",
       "</style>\n",
       "<table border=\"1\" class=\"dataframe\">\n",
       "  <thead>\n",
       "    <tr style=\"text-align: right;\">\n",
       "      <th></th>\n",
       "      <th>Temperature</th>\n",
       "      <th>RH</th>\n",
       "      <th>Ws</th>\n",
       "      <th>Rain</th>\n",
       "      <th>FFMC</th>\n",
       "      <th>DMC</th>\n",
       "      <th>DC</th>\n",
       "      <th>ISI</th>\n",
       "      <th>BUI</th>\n",
       "      <th>FWI</th>\n",
       "      <th>Classes</th>\n",
       "      <th>Region</th>\n",
       "    </tr>\n",
       "  </thead>\n",
       "  <tbody>\n",
       "    <tr>\n",
       "      <th>0</th>\n",
       "      <td>29</td>\n",
       "      <td>57</td>\n",
       "      <td>18</td>\n",
       "      <td>0.0</td>\n",
       "      <td>65.7</td>\n",
       "      <td>3.4</td>\n",
       "      <td>7.6</td>\n",
       "      <td>1.3</td>\n",
       "      <td>3.4</td>\n",
       "      <td>0.5</td>\n",
       "      <td>not fire</td>\n",
       "      <td>0</td>\n",
       "    </tr>\n",
       "    <tr>\n",
       "      <th>1</th>\n",
       "      <td>29</td>\n",
       "      <td>61</td>\n",
       "      <td>13</td>\n",
       "      <td>1.3</td>\n",
       "      <td>64.4</td>\n",
       "      <td>4.1</td>\n",
       "      <td>7.6</td>\n",
       "      <td>1.0</td>\n",
       "      <td>3.9</td>\n",
       "      <td>0.4</td>\n",
       "      <td>not fire</td>\n",
       "      <td>0</td>\n",
       "    </tr>\n",
       "    <tr>\n",
       "      <th>2</th>\n",
       "      <td>26</td>\n",
       "      <td>82</td>\n",
       "      <td>22</td>\n",
       "      <td>13.1</td>\n",
       "      <td>47.1</td>\n",
       "      <td>2.5</td>\n",
       "      <td>7.1</td>\n",
       "      <td>0.3</td>\n",
       "      <td>2.7</td>\n",
       "      <td>0.1</td>\n",
       "      <td>not fire</td>\n",
       "      <td>0</td>\n",
       "    </tr>\n",
       "    <tr>\n",
       "      <th>3</th>\n",
       "      <td>25</td>\n",
       "      <td>89</td>\n",
       "      <td>13</td>\n",
       "      <td>2.5</td>\n",
       "      <td>28.6</td>\n",
       "      <td>1.3</td>\n",
       "      <td>6.9</td>\n",
       "      <td>0.0</td>\n",
       "      <td>1.7</td>\n",
       "      <td>0.0</td>\n",
       "      <td>not fire</td>\n",
       "      <td>0</td>\n",
       "    </tr>\n",
       "    <tr>\n",
       "      <th>4</th>\n",
       "      <td>27</td>\n",
       "      <td>77</td>\n",
       "      <td>16</td>\n",
       "      <td>0.0</td>\n",
       "      <td>64.8</td>\n",
       "      <td>3.0</td>\n",
       "      <td>14.2</td>\n",
       "      <td>1.2</td>\n",
       "      <td>3.9</td>\n",
       "      <td>0.5</td>\n",
       "      <td>not fire</td>\n",
       "      <td>0</td>\n",
       "    </tr>\n",
       "  </tbody>\n",
       "</table>\n",
       "</div>"
      ],
      "text/plain": [
       "   Temperature  RH  Ws  Rain  FFMC  DMC    DC  ISI  BUI  FWI   Classes  Region\n",
       "0           29  57  18   0.0  65.7  3.4   7.6  1.3  3.4  0.5  not fire       0\n",
       "1           29  61  13   1.3  64.4  4.1   7.6  1.0  3.9  0.4  not fire       0\n",
       "2           26  82  22  13.1  47.1  2.5   7.1  0.3  2.7  0.1  not fire       0\n",
       "3           25  89  13   2.5  28.6  1.3   6.9  0.0  1.7  0.0  not fire       0\n",
       "4           27  77  16   0.0  64.8  3.0  14.2  1.2  3.9  0.5  not fire       0"
      ]
     },
     "execution_count": 26,
     "metadata": {},
     "output_type": "execute_result"
    }
   ],
   "source": [
    "# Dropping columns which we will not use\n",
    "\n",
    "df4.drop(['day','month','year'],axis=1,inplace=True)\n",
    "df4.head()"
   ]
  },
  {
   "cell_type": "code",
   "execution_count": 27,
   "metadata": {
    "executionInfo": {
     "elapsed": 8,
     "status": "ok",
     "timestamp": 1729869680748,
     "user": {
      "displayName": "Bharathkumar Tamilarasu",
      "userId": "11189951727030054376"
     },
     "user_tz": -330
    },
    "id": "aBkVCpeXha_Z"
   },
   "outputs": [],
   "source": [
    "# Encoding of the categories in Classes column\n",
    "# 0 for Not Fire\n",
    "# 1 for Fire\n",
    "\n",
    "df4['Classes']=np.where(df4['Classes'].str.contains('not fire'),0,1)"
   ]
  },
  {
   "cell_type": "code",
   "execution_count": 28,
   "metadata": {
    "colab": {
     "base_uri": "https://localhost:8080/",
     "height": 206
    },
    "executionInfo": {
     "elapsed": 8,
     "status": "ok",
     "timestamp": 1729869680748,
     "user": {
      "displayName": "Bharathkumar Tamilarasu",
      "userId": "11189951727030054376"
     },
     "user_tz": -330
    },
    "id": "1Xizwp0oLIKg",
    "outputId": "a2a288cc-3589-45ee-fac9-29d29ec6e097"
   },
   "outputs": [
    {
     "data": {
      "text/html": [
       "<div>\n",
       "<style scoped>\n",
       "    .dataframe tbody tr th:only-of-type {\n",
       "        vertical-align: middle;\n",
       "    }\n",
       "\n",
       "    .dataframe tbody tr th {\n",
       "        vertical-align: top;\n",
       "    }\n",
       "\n",
       "    .dataframe thead th {\n",
       "        text-align: right;\n",
       "    }\n",
       "</style>\n",
       "<table border=\"1\" class=\"dataframe\">\n",
       "  <thead>\n",
       "    <tr style=\"text-align: right;\">\n",
       "      <th></th>\n",
       "      <th>Temperature</th>\n",
       "      <th>RH</th>\n",
       "      <th>Ws</th>\n",
       "      <th>Rain</th>\n",
       "      <th>FFMC</th>\n",
       "      <th>DMC</th>\n",
       "      <th>DC</th>\n",
       "      <th>ISI</th>\n",
       "      <th>BUI</th>\n",
       "      <th>FWI</th>\n",
       "      <th>Classes</th>\n",
       "      <th>Region</th>\n",
       "    </tr>\n",
       "  </thead>\n",
       "  <tbody>\n",
       "    <tr>\n",
       "      <th>0</th>\n",
       "      <td>29</td>\n",
       "      <td>57</td>\n",
       "      <td>18</td>\n",
       "      <td>0.0</td>\n",
       "      <td>65.7</td>\n",
       "      <td>3.4</td>\n",
       "      <td>7.6</td>\n",
       "      <td>1.3</td>\n",
       "      <td>3.4</td>\n",
       "      <td>0.5</td>\n",
       "      <td>0</td>\n",
       "      <td>0</td>\n",
       "    </tr>\n",
       "    <tr>\n",
       "      <th>1</th>\n",
       "      <td>29</td>\n",
       "      <td>61</td>\n",
       "      <td>13</td>\n",
       "      <td>1.3</td>\n",
       "      <td>64.4</td>\n",
       "      <td>4.1</td>\n",
       "      <td>7.6</td>\n",
       "      <td>1.0</td>\n",
       "      <td>3.9</td>\n",
       "      <td>0.4</td>\n",
       "      <td>0</td>\n",
       "      <td>0</td>\n",
       "    </tr>\n",
       "    <tr>\n",
       "      <th>2</th>\n",
       "      <td>26</td>\n",
       "      <td>82</td>\n",
       "      <td>22</td>\n",
       "      <td>13.1</td>\n",
       "      <td>47.1</td>\n",
       "      <td>2.5</td>\n",
       "      <td>7.1</td>\n",
       "      <td>0.3</td>\n",
       "      <td>2.7</td>\n",
       "      <td>0.1</td>\n",
       "      <td>0</td>\n",
       "      <td>0</td>\n",
       "    </tr>\n",
       "    <tr>\n",
       "      <th>3</th>\n",
       "      <td>25</td>\n",
       "      <td>89</td>\n",
       "      <td>13</td>\n",
       "      <td>2.5</td>\n",
       "      <td>28.6</td>\n",
       "      <td>1.3</td>\n",
       "      <td>6.9</td>\n",
       "      <td>0.0</td>\n",
       "      <td>1.7</td>\n",
       "      <td>0.0</td>\n",
       "      <td>0</td>\n",
       "      <td>0</td>\n",
       "    </tr>\n",
       "    <tr>\n",
       "      <th>4</th>\n",
       "      <td>27</td>\n",
       "      <td>77</td>\n",
       "      <td>16</td>\n",
       "      <td>0.0</td>\n",
       "      <td>64.8</td>\n",
       "      <td>3.0</td>\n",
       "      <td>14.2</td>\n",
       "      <td>1.2</td>\n",
       "      <td>3.9</td>\n",
       "      <td>0.5</td>\n",
       "      <td>0</td>\n",
       "      <td>0</td>\n",
       "    </tr>\n",
       "  </tbody>\n",
       "</table>\n",
       "</div>"
      ],
      "text/plain": [
       "   Temperature  RH  Ws  Rain  FFMC  DMC    DC  ISI  BUI  FWI  Classes  Region\n",
       "0           29  57  18   0.0  65.7  3.4   7.6  1.3  3.4  0.5        0       0\n",
       "1           29  61  13   1.3  64.4  4.1   7.6  1.0  3.9  0.4        0       0\n",
       "2           26  82  22  13.1  47.1  2.5   7.1  0.3  2.7  0.1        0       0\n",
       "3           25  89  13   2.5  28.6  1.3   6.9  0.0  1.7  0.0        0       0\n",
       "4           27  77  16   0.0  64.8  3.0  14.2  1.2  3.9  0.5        0       0"
      ]
     },
     "execution_count": 28,
     "metadata": {},
     "output_type": "execute_result"
    }
   ],
   "source": [
    "df4.head()"
   ]
  },
  {
   "cell_type": "code",
   "execution_count": 34,
   "metadata": {
    "colab": {
     "base_uri": "https://localhost:8080/",
     "height": 1000
    },
    "executionInfo": {
     "elapsed": 4364,
     "status": "ok",
     "timestamp": 1729869685104,
     "user": {
      "displayName": "Bharathkumar Tamilarasu",
      "userId": "11189951727030054376"
     },
     "user_tz": -330
    },
    "id": "mMaKdNxmha6i",
    "outputId": "cab93fd2-7b23-43b0-8f07-0cb723cfeb51"
   },
   "outputs": [
    {
     "data": {
      "image/png": "[encoded data removed]",
      "text/plain": [
       "<Figure size 2000x1500 with 12 Axes>"
      ]
     },
     "metadata": {},
     "output_type": "display_data"
    }
   ],
   "source": [
    "# Plotting desnity plot for all features\n",
    "\n",
    "plt.style.use('seaborn-v0_8')  # Or seaborn-v0_8-<style> for a specific seaborn style\n",
    "df4.hist(bins=50,figsize=(20,15))\n",
    "plt.show()"
   ]
  },
  {
   "cell_type": "code",
   "execution_count": 31,
   "metadata": {
    "executionInfo": {
     "elapsed": 6,
     "status": "ok",
     "timestamp": 1729869685104,
     "user": {
      "displayName": "Bharathkumar Tamilarasu",
      "userId": "11189951727030054376"
     },
     "user_tz": -330
    },
    "id": "OVKYbf9Eha4M"
   },
   "outputs": [],
   "source": [
    "# Creating a Pie Chart\n",
    "\n",
    "values = np.array(df4['Classes'].value_counts(normalize=True)*100)\n",
    "pielabels = ['Fire','Not Fire']\n",
    "piecolors = ['#F84F31','#23C552']"
   ]
  },
  {
   "cell_type": "code",
   "execution_count": 32,
   "metadata": {
    "colab": {
     "base_uri": "https://localhost:8080/",
     "height": 519
    },
    "executionInfo": {
     "elapsed": 7,
     "status": "ok",
     "timestamp": 1729869685105,
     "user": {
      "displayName": "Bharathkumar Tamilarasu",
      "userId": "11189951727030054376"
     },
     "user_tz": -330
    },
    "id": "1xwT-SRd_mzv",
    "outputId": "9c6a9124-11f5-42c2-c2b5-41e188d356af"
   },
   "outputs": [
    {
     "data": {
      "image/png": "[encoded data removed]",
      "text/plain": [
       "<Figure size 600x600 with 1 Axes>"
      ]
     },
     "metadata": {},
     "output_type": "display_data"
    }
   ],
   "source": [
    "plt.figure(figsize=(6,6))\n",
    "plt.pie(values,labels=pielabels,colors=piecolors,autopct='%1.1f%%')\n",
    "plt.title(\"Pie Chart o Classes\")\n",
    "plt.show()"
   ]
  },
  {
   "cell_type": "code",
   "execution_count": 35,
   "metadata": {
    "colab": {
     "base_uri": "https://localhost:8080/",
     "height": 425
    },
    "executionInfo": {
     "elapsed": 7,
     "status": "ok",
     "timestamp": 1729869685105,
     "user": {
      "displayName": "Bharathkumar Tamilarasu",
      "userId": "11189951727030054376"
     },
     "user_tz": -330
    },
    "id": "rzfOcYMM_mvR",
    "outputId": "3273cbc0-2092-4f53-a15d-f4146a651e09"
   },
   "outputs": [
    {
     "data": {
      "text/html": [
       "<div>\n",
       "<style scoped>\n",
       "    .dataframe tbody tr th:only-of-type {\n",
       "        vertical-align: middle;\n",
       "    }\n",
       "\n",
       "    .dataframe tbody tr th {\n",
       "        vertical-align: top;\n",
       "    }\n",
       "\n",
       "    .dataframe thead th {\n",
       "        text-align: right;\n",
       "    }\n",
       "</style>\n",
       "<table border=\"1\" class=\"dataframe\">\n",
       "  <thead>\n",
       "    <tr style=\"text-align: right;\">\n",
       "      <th></th>\n",
       "      <th>Temperature</th>\n",
       "      <th>RH</th>\n",
       "      <th>Ws</th>\n",
       "      <th>Rain</th>\n",
       "      <th>FFMC</th>\n",
       "      <th>DMC</th>\n",
       "      <th>DC</th>\n",
       "      <th>ISI</th>\n",
       "      <th>BUI</th>\n",
       "      <th>FWI</th>\n",
       "      <th>Classes</th>\n",
       "      <th>Region</th>\n",
       "    </tr>\n",
       "  </thead>\n",
       "  <tbody>\n",
       "    <tr>\n",
       "      <th>Temperature</th>\n",
       "      <td>1.000000</td>\n",
       "      <td>-0.651400</td>\n",
       "      <td>-0.284510</td>\n",
       "      <td>-0.326492</td>\n",
       "      <td>0.676568</td>\n",
       "      <td>0.485687</td>\n",
       "      <td>0.376284</td>\n",
       "      <td>0.603871</td>\n",
       "      <td>0.459789</td>\n",
       "      <td>0.566670</td>\n",
       "      <td>0.516015</td>\n",
       "      <td>0.269555</td>\n",
       "    </tr>\n",
       "    <tr>\n",
       "      <th>RH</th>\n",
       "      <td>-0.651400</td>\n",
       "      <td>1.000000</td>\n",
       "      <td>0.244048</td>\n",
       "      <td>0.222356</td>\n",
       "      <td>-0.644873</td>\n",
       "      <td>-0.408519</td>\n",
       "      <td>-0.226941</td>\n",
       "      <td>-0.686667</td>\n",
       "      <td>-0.353841</td>\n",
       "      <td>-0.580957</td>\n",
       "      <td>-0.432161</td>\n",
       "      <td>-0.402682</td>\n",
       "    </tr>\n",
       "    <tr>\n",
       "      <th>Ws</th>\n",
       "      <td>-0.284510</td>\n",
       "      <td>0.244048</td>\n",
       "      <td>1.000000</td>\n",
       "      <td>0.171506</td>\n",
       "      <td>-0.166548</td>\n",
       "      <td>-0.000721</td>\n",
       "      <td>0.079135</td>\n",
       "      <td>0.008532</td>\n",
       "      <td>0.031438</td>\n",
       "      <td>0.032368</td>\n",
       "      <td>-0.069964</td>\n",
       "      <td>-0.181160</td>\n",
       "    </tr>\n",
       "    <tr>\n",
       "      <th>Rain</th>\n",
       "      <td>-0.326492</td>\n",
       "      <td>0.222356</td>\n",
       "      <td>0.171506</td>\n",
       "      <td>1.000000</td>\n",
       "      <td>-0.543906</td>\n",
       "      <td>-0.288773</td>\n",
       "      <td>-0.298023</td>\n",
       "      <td>-0.347484</td>\n",
       "      <td>-0.299852</td>\n",
       "      <td>-0.324422</td>\n",
       "      <td>-0.379097</td>\n",
       "      <td>-0.040013</td>\n",
       "    </tr>\n",
       "    <tr>\n",
       "      <th>FFMC</th>\n",
       "      <td>0.676568</td>\n",
       "      <td>-0.644873</td>\n",
       "      <td>-0.166548</td>\n",
       "      <td>-0.543906</td>\n",
       "      <td>1.000000</td>\n",
       "      <td>0.603608</td>\n",
       "      <td>0.507397</td>\n",
       "      <td>0.740007</td>\n",
       "      <td>0.592011</td>\n",
       "      <td>0.691132</td>\n",
       "      <td>0.769492</td>\n",
       "      <td>0.222241</td>\n",
       "    </tr>\n",
       "    <tr>\n",
       "      <th>DMC</th>\n",
       "      <td>0.485687</td>\n",
       "      <td>-0.408519</td>\n",
       "      <td>-0.000721</td>\n",
       "      <td>-0.288773</td>\n",
       "      <td>0.603608</td>\n",
       "      <td>1.000000</td>\n",
       "      <td>0.875925</td>\n",
       "      <td>0.680454</td>\n",
       "      <td>0.982248</td>\n",
       "      <td>0.875864</td>\n",
       "      <td>0.585658</td>\n",
       "      <td>0.192089</td>\n",
       "    </tr>\n",
       "    <tr>\n",
       "      <th>DC</th>\n",
       "      <td>0.376284</td>\n",
       "      <td>-0.226941</td>\n",
       "      <td>0.079135</td>\n",
       "      <td>-0.298023</td>\n",
       "      <td>0.507397</td>\n",
       "      <td>0.875925</td>\n",
       "      <td>1.000000</td>\n",
       "      <td>0.508643</td>\n",
       "      <td>0.941988</td>\n",
       "      <td>0.739521</td>\n",
       "      <td>0.511123</td>\n",
       "      <td>-0.078734</td>\n",
       "    </tr>\n",
       "    <tr>\n",
       "      <th>ISI</th>\n",
       "      <td>0.603871</td>\n",
       "      <td>-0.686667</td>\n",
       "      <td>0.008532</td>\n",
       "      <td>-0.347484</td>\n",
       "      <td>0.740007</td>\n",
       "      <td>0.680454</td>\n",
       "      <td>0.508643</td>\n",
       "      <td>1.000000</td>\n",
       "      <td>0.644093</td>\n",
       "      <td>0.922895</td>\n",
       "      <td>0.735197</td>\n",
       "      <td>0.263197</td>\n",
       "    </tr>\n",
       "    <tr>\n",
       "      <th>BUI</th>\n",
       "      <td>0.459789</td>\n",
       "      <td>-0.353841</td>\n",
       "      <td>0.031438</td>\n",
       "      <td>-0.299852</td>\n",
       "      <td>0.592011</td>\n",
       "      <td>0.982248</td>\n",
       "      <td>0.941988</td>\n",
       "      <td>0.644093</td>\n",
       "      <td>1.000000</td>\n",
       "      <td>0.857973</td>\n",
       "      <td>0.586639</td>\n",
       "      <td>0.089408</td>\n",
       "    </tr>\n",
       "    <tr>\n",
       "      <th>FWI</th>\n",
       "      <td>0.566670</td>\n",
       "      <td>-0.580957</td>\n",
       "      <td>0.032368</td>\n",
       "      <td>-0.324422</td>\n",
       "      <td>0.691132</td>\n",
       "      <td>0.875864</td>\n",
       "      <td>0.739521</td>\n",
       "      <td>0.922895</td>\n",
       "      <td>0.857973</td>\n",
       "      <td>1.000000</td>\n",
       "      <td>0.719216</td>\n",
       "      <td>0.197102</td>\n",
       "    </tr>\n",
       "    <tr>\n",
       "      <th>Classes</th>\n",
       "      <td>0.516015</td>\n",
       "      <td>-0.432161</td>\n",
       "      <td>-0.069964</td>\n",
       "      <td>-0.379097</td>\n",
       "      <td>0.769492</td>\n",
       "      <td>0.585658</td>\n",
       "      <td>0.511123</td>\n",
       "      <td>0.735197</td>\n",
       "      <td>0.586639</td>\n",
       "      <td>0.719216</td>\n",
       "      <td>1.000000</td>\n",
       "      <td>0.162347</td>\n",
       "    </tr>\n",
       "    <tr>\n",
       "      <th>Region</th>\n",
       "      <td>0.269555</td>\n",
       "      <td>-0.402682</td>\n",
       "      <td>-0.181160</td>\n",
       "      <td>-0.040013</td>\n",
       "      <td>0.222241</td>\n",
       "      <td>0.192089</td>\n",
       "      <td>-0.078734</td>\n",
       "      <td>0.263197</td>\n",
       "      <td>0.089408</td>\n",
       "      <td>0.197102</td>\n",
       "      <td>0.162347</td>\n",
       "      <td>1.000000</td>\n",
       "    </tr>\n",
       "  </tbody>\n",
       "</table>\n",
       "</div>"
      ],
      "text/plain": [
       "             Temperature        RH        Ws      Rain      FFMC       DMC  \\\n",
       "Temperature     1.000000 -0.651400 -0.284510 -0.326492  0.676568  0.485687   \n",
       "RH             -0.651400  1.000000  0.244048  0.222356 -0.644873 -0.408519   \n",
       "Ws             -0.284510  0.244048  1.000000  0.171506 -0.166548 -0.000721   \n",
       "Rain           -0.326492  0.222356  0.171506  1.000000 -0.543906 -0.288773   \n",
       "FFMC            0.676568 -0.644873 -0.166548 -0.543906  1.000000  0.603608   \n",
       "DMC             0.485687 -0.408519 -0.000721 -0.288773  0.603608  1.000000   \n",
       "DC              0.376284 -0.226941  0.079135 -0.298023  0.507397  0.875925   \n",
       "ISI             0.603871 -0.686667  0.008532 -0.347484  0.740007  0.680454   \n",
       "BUI             0.459789 -0.353841  0.031438 -0.299852  0.592011  0.982248   \n",
       "FWI             0.566670 -0.580957  0.032368 -0.324422  0.691132  0.875864   \n",
       "Classes         0.516015 -0.432161 -0.069964 -0.379097  0.769492  0.585658   \n",
       "Region          0.269555 -0.402682 -0.181160 -0.040013  0.222241  0.192089   \n",
       "\n",
       "                   DC       ISI       BUI       FWI   Classes    Region  \n",
       "Temperature  0.376284  0.603871  0.459789  0.566670  0.516015  0.269555  \n",
       "RH          -0.226941 -0.686667 -0.353841 -0.580957 -0.432161 -0.402682  \n",
       "Ws           0.079135  0.008532  0.031438  0.032368 -0.069964 -0.181160  \n",
       "Rain        -0.298023 -0.347484 -0.299852 -0.324422 -0.379097 -0.040013  \n",
       "FFMC         0.507397  0.740007  0.592011  0.691132  0.769492  0.222241  \n",
       "DMC          0.875925  0.680454  0.982248  0.875864  0.585658  0.192089  \n",
       "DC           1.000000  0.508643  0.941988  0.739521  0.511123 -0.078734  \n",
       "ISI          0.508643  1.000000  0.644093  0.922895  0.735197  0.263197  \n",
       "BUI          0.941988  0.644093  1.000000  0.857973  0.586639  0.089408  \n",
       "FWI          0.739521  0.922895  0.857973  1.000000  0.719216  0.197102  \n",
       "Classes      0.511123  0.735197  0.586639  0.719216  1.000000  0.162347  \n",
       "Region      -0.078734  0.263197  0.089408  0.197102  0.162347  1.000000  "
      ]
     },
     "execution_count": 35,
     "metadata": {},
     "output_type": "execute_result"
    }
   ],
   "source": [
    "# Correlation\n",
    "\n",
    "df4.corr()"
   ]
  },
  {
   "cell_type": "code",
   "execution_count": 36,
   "metadata": {
    "colab": {
     "base_uri": "https://localhost:8080/",
     "height": 870
    },
    "executionInfo": {
     "elapsed": 1281,
     "status": "ok",
     "timestamp": 1729869686380,
     "user": {
      "displayName": "Bharathkumar Tamilarasu",
      "userId": "11189951727030054376"
     },
     "user_tz": -330
    },
    "id": "Wjv1FEqahazh",
    "outputId": "2f5d3e94-643f-461c-8b4f-ee83fc0264be"
   },
   "outputs": [
    {
     "data": {
      "image/png": "[encoded data removed]",
      "text/plain": [
       "<Figure size 1000x1000 with 2 Axes>"
      ]
     },
     "metadata": {},
     "output_type": "display_data"
    }
   ],
   "source": [
    "# Correlation using Heatmap\n",
    "\n",
    "plt.figure(figsize=(10,10))\n",
    "sns.heatmap(df4.corr(),cmap='RdYlGn',annot=True)\n",
    "plt.title('Correlation of the Features')\n",
    "plt.xlabel('Features')\n",
    "plt.ylabel('Features')\n",
    "plt.show()"
   ]
  },
  {
   "cell_type": "code",
   "execution_count": 37,
   "metadata": {
    "colab": {
     "base_uri": "https://localhost:8080/",
     "height": 562
    },
    "executionInfo": {
     "elapsed": 6,
     "status": "ok",
     "timestamp": 1729869686380,
     "user": {
      "displayName": "Bharathkumar Tamilarasu",
      "userId": "11189951727030054376"
     },
     "user_tz": -330
    },
    "id": "Yi8YWEGvhaxO",
    "outputId": "983fd2fa-ace3-4e86-d988-b12a44b0bcd5"
   },
   "outputs": [
    {
     "data": {
      "image/png": "[encoded data removed]",
      "text/plain": [
       "<Figure size 600x600 with 1 Axes>"
      ]
     },
     "metadata": {},
     "output_type": "display_data"
    }
   ],
   "source": [
    "# Creating a Box Plot for FWI\n",
    "\n",
    "plt.figure(figsize=(6,6))\n",
    "sns.boxplot(x=df4['FWI'])\n",
    "plt.title('Distribution of FWI Values')\n",
    "plt.show()"
   ]
  },
  {
   "cell_type": "code",
   "execution_count": 38,
   "metadata": {
    "colab": {
     "base_uri": "https://localhost:8080/",
     "height": 206
    },
    "executionInfo": {
     "elapsed": 5,
     "status": "ok",
     "timestamp": 1729869686380,
     "user": {
      "displayName": "Bharathkumar Tamilarasu",
      "userId": "11189951727030054376"
     },
     "user_tz": -330
    },
    "id": "9Cc7hxIkx3Rz",
    "outputId": "e90658d8-c130-4860-f3c2-9331f761bfe3"
   },
   "outputs": [
    {
     "data": {
      "text/html": [
       "<div>\n",
       "<style scoped>\n",
       "    .dataframe tbody tr th:only-of-type {\n",
       "        vertical-align: middle;\n",
       "    }\n",
       "\n",
       "    .dataframe tbody tr th {\n",
       "        vertical-align: top;\n",
       "    }\n",
       "\n",
       "    .dataframe thead th {\n",
       "        text-align: right;\n",
       "    }\n",
       "</style>\n",
       "<table border=\"1\" class=\"dataframe\">\n",
       "  <thead>\n",
       "    <tr style=\"text-align: right;\">\n",
       "      <th></th>\n",
       "      <th>Temperature</th>\n",
       "      <th>RH</th>\n",
       "      <th>Ws</th>\n",
       "      <th>Rain</th>\n",
       "      <th>FFMC</th>\n",
       "      <th>DMC</th>\n",
       "      <th>DC</th>\n",
       "      <th>ISI</th>\n",
       "      <th>BUI</th>\n",
       "      <th>FWI</th>\n",
       "      <th>Classes</th>\n",
       "      <th>Region</th>\n",
       "    </tr>\n",
       "  </thead>\n",
       "  <tbody>\n",
       "    <tr>\n",
       "      <th>0</th>\n",
       "      <td>29</td>\n",
       "      <td>57</td>\n",
       "      <td>18</td>\n",
       "      <td>0.0</td>\n",
       "      <td>65.7</td>\n",
       "      <td>3.4</td>\n",
       "      <td>7.6</td>\n",
       "      <td>1.3</td>\n",
       "      <td>3.4</td>\n",
       "      <td>0.5</td>\n",
       "      <td>0</td>\n",
       "      <td>0</td>\n",
       "    </tr>\n",
       "    <tr>\n",
       "      <th>1</th>\n",
       "      <td>29</td>\n",
       "      <td>61</td>\n",
       "      <td>13</td>\n",
       "      <td>1.3</td>\n",
       "      <td>64.4</td>\n",
       "      <td>4.1</td>\n",
       "      <td>7.6</td>\n",
       "      <td>1.0</td>\n",
       "      <td>3.9</td>\n",
       "      <td>0.4</td>\n",
       "      <td>0</td>\n",
       "      <td>0</td>\n",
       "    </tr>\n",
       "    <tr>\n",
       "      <th>2</th>\n",
       "      <td>26</td>\n",
       "      <td>82</td>\n",
       "      <td>22</td>\n",
       "      <td>13.1</td>\n",
       "      <td>47.1</td>\n",
       "      <td>2.5</td>\n",
       "      <td>7.1</td>\n",
       "      <td>0.3</td>\n",
       "      <td>2.7</td>\n",
       "      <td>0.1</td>\n",
       "      <td>0</td>\n",
       "      <td>0</td>\n",
       "    </tr>\n",
       "    <tr>\n",
       "      <th>3</th>\n",
       "      <td>25</td>\n",
       "      <td>89</td>\n",
       "      <td>13</td>\n",
       "      <td>2.5</td>\n",
       "      <td>28.6</td>\n",
       "      <td>1.3</td>\n",
       "      <td>6.9</td>\n",
       "      <td>0.0</td>\n",
       "      <td>1.7</td>\n",
       "      <td>0.0</td>\n",
       "      <td>0</td>\n",
       "      <td>0</td>\n",
       "    </tr>\n",
       "    <tr>\n",
       "      <th>4</th>\n",
       "      <td>27</td>\n",
       "      <td>77</td>\n",
       "      <td>16</td>\n",
       "      <td>0.0</td>\n",
       "      <td>64.8</td>\n",
       "      <td>3.0</td>\n",
       "      <td>14.2</td>\n",
       "      <td>1.2</td>\n",
       "      <td>3.9</td>\n",
       "      <td>0.5</td>\n",
       "      <td>0</td>\n",
       "      <td>0</td>\n",
       "    </tr>\n",
       "  </tbody>\n",
       "</table>\n",
       "</div>"
      ],
      "text/plain": [
       "   Temperature  RH  Ws  Rain  FFMC  DMC    DC  ISI  BUI  FWI  Classes  Region\n",
       "0           29  57  18   0.0  65.7  3.4   7.6  1.3  3.4  0.5        0       0\n",
       "1           29  61  13   1.3  64.4  4.1   7.6  1.0  3.9  0.4        0       0\n",
       "2           26  82  22  13.1  47.1  2.5   7.1  0.3  2.7  0.1        0       0\n",
       "3           25  89  13   2.5  28.6  1.3   6.9  0.0  1.7  0.0        0       0\n",
       "4           27  77  16   0.0  64.8  3.0  14.2  1.2  3.9  0.5        0       0"
      ]
     },
     "execution_count": 38,
     "metadata": {},
     "output_type": "execute_result"
    }
   ],
   "source": [
    "df4.head()"
   ]
  },
  {
   "cell_type": "code",
   "execution_count": 39,
   "metadata": {
    "colab": {
     "base_uri": "https://localhost:8080/",
     "height": 639
    },
    "executionInfo": {
     "elapsed": 889,
     "status": "ok",
     "timestamp": 1729869687265,
     "user": {
      "displayName": "Bharathkumar Tamilarasu",
      "userId": "11189951727030054376"
     },
     "user_tz": -330
    },
    "id": "jIfbiEeSM-xR",
    "outputId": "38970002-e118-48c0-9667-c8f7acc73e46"
   },
   "outputs": [
    {
     "data": {
      "image/png": "[encoded data removed]",
      "text/plain": [
       "<Figure size 1000x700 with 1 Axes>"
      ]
     },
     "metadata": {},
     "output_type": "display_data"
    }
   ],
   "source": [
    "# Monthly Fire Analysis\n",
    "\n",
    "plt.figure(figsize=(10,7))\n",
    "bar_plot = sns.countplot(df3,x='month',hue='Classes')\n",
    "plt.title('Monthly Fire Analysis')\n",
    "plt.xlabel('Month')\n",
    "plt.ylabel('Number of Fires')\n",
    "for bar in bar_plot.patches:\n",
    "\n",
    "  # Using Matplotlib's annotate function and\n",
    "  # passing the coordinates where the annotation shall be done\n",
    "  # x-coordinate: bar.get_x() + bar.get_width() / 2\n",
    "  # y-coordinate: bar.get_height()\n",
    "  # free space to be left to make graph pleasing: (0, 8)\n",
    "  # ha and va stand for the horizontal and vertical alignment\n",
    "    bar_plot.annotate(format(bar.get_height()),\n",
    "                   (bar.get_x() + bar.get_width() / 2,\n",
    "                    bar.get_height()), ha='center', va='center',\n",
    "                   size=9, xytext=(0, 5),\n",
    "                   textcoords='offset points')\n",
    "plt.show()"
   ]
  },
  {
   "cell_type": "markdown",
   "metadata": {
    "id": "gT9U1dI6Nb9Q"
   },
   "source": [
    "Its observed that July and August had the most number of forest fires for both regions. And from the above plot of months, we can understand few things\n",
    "\n",
    "Most of the fires happened in August\n",
    "\n",
    "Less Fires was on September"
   ]
  },
  {
   "cell_type": "markdown",
   "metadata": {
    "id": "n1INVdK2N4n-"
   },
   "source": [
    "## **4. Model Building**"
   ]
  },
  {
   "cell_type": "code",
   "execution_count": 40,
   "metadata": {
    "executionInfo": {
     "elapsed": 10,
     "status": "ok",
     "timestamp": 1729869687265,
     "user": {
      "displayName": "Bharathkumar Tamilarasu",
      "userId": "11189951727030054376"
     },
     "user_tz": -330
    },
    "id": "uLoskJRhyV2z"
   },
   "outputs": [],
   "source": [
    "df5 = df4.copy()"
   ]
  },
  {
   "cell_type": "code",
   "execution_count": 41,
   "metadata": {
    "executionInfo": {
     "elapsed": 9,
     "status": "ok",
     "timestamp": 1729869687265,
     "user": {
      "displayName": "Bharathkumar Tamilarasu",
      "userId": "11189951727030054376"
     },
     "user_tz": -330
    },
    "id": "y43VYHaWKifh"
   },
   "outputs": [],
   "source": [
    "# Independent and Dependent Variables\n",
    "X=df5.drop(['FWI','Classes'],axis=1)\n",
    "y=df5['FWI']"
   ]
  },
  {
   "cell_type": "code",
   "execution_count": 42,
   "metadata": {
    "executionInfo": {
     "elapsed": 9,
     "status": "ok",
     "timestamp": 1729869687265,
     "user": {
      "displayName": "Bharathkumar Tamilarasu",
      "userId": "11189951727030054376"
     },
     "user_tz": -330
    },
    "id": "bN5LLRypoS-z"
   },
   "outputs": [],
   "source": [
    "# Train Test Split\n",
    "\n",
    "X_train,X_test,y_train,y_test = train_test_split(X,y,test_size=0.3,random_state=None)"
   ]
  },
  {
   "cell_type": "code",
   "execution_count": 43,
   "metadata": {
    "colab": {
     "base_uri": "https://localhost:8080/"
    },
    "executionInfo": {
     "elapsed": 9,
     "status": "ok",
     "timestamp": 1729869687265,
     "user": {
      "displayName": "Bharathkumar Tamilarasu",
      "userId": "11189951727030054376"
     },
     "user_tz": -330
    },
    "id": "-Jxe-MhRoS7Y",
    "outputId": "a641d456-497a-479a-8ecd-8c09a14d0ef9"
   },
   "outputs": [
    {
     "name": "stdout",
     "output_type": "stream",
     "text": [
      "Shapes\n",
      "X Train -> (170, 10)\n",
      "X Test -> (73, 10)\n",
      "Y Train -> (170,)\n",
      "Y Test -> (73,)\n"
     ]
    }
   ],
   "source": [
    "print('Shapes\\nX Train ->',X_train.shape)\n",
    "print('X Test ->',X_test.shape)\n",
    "print('Y Train ->',y_train.shape)\n",
    "print('Y Test ->',y_test.shape)"
   ]
  },
  {
   "cell_type": "markdown",
   "metadata": {
    "id": "h0aBx8P_ocsw"
   },
   "source": [
    "###i) Feature Selection Based on Correlation"
   ]
  },
  {
   "cell_type": "code",
   "execution_count": 44,
   "metadata": {
    "colab": {
     "base_uri": "https://localhost:8080/",
     "height": 851
    },
    "executionInfo": {
     "elapsed": 8,
     "status": "ok",
     "timestamp": 1729869687265,
     "user": {
      "displayName": "Bharathkumar Tamilarasu",
      "userId": "11189951727030054376"
     },
     "user_tz": -330
    },
    "id": "onkahsIjoS4x",
    "outputId": "56c65ec8-4ced-47ad-c2ed-5d25ade56744"
   },
   "outputs": [
    {
     "data": {
      "image/png": "[encoded data removed]",
      "text/plain": [
       "<Figure size 1200x1000 with 2 Axes>"
      ]
     },
     "metadata": {},
     "output_type": "display_data"
    }
   ],
   "source": [
    "corr =  X_train.corr()\n",
    "plt.figure(figsize=(12,10))\n",
    "plt.title('Correlation between Independent Features')\n",
    "sns.heatmap(corr,annot=True)\n",
    "plt.show()"
   ]
  },
  {
   "cell_type": "code",
   "execution_count": 45,
   "metadata": {
    "executionInfo": {
     "elapsed": 7,
     "status": "ok",
     "timestamp": 1729869687265,
     "user": {
      "displayName": "Bharathkumar Tamilarasu",
      "userId": "11189951727030054376"
     },
     "user_tz": -330
    },
    "id": "8tavVSA3oRlX"
   },
   "outputs": [],
   "source": [
    "# Checking columns with High Correlation i.e 0.80\n",
    "\n",
    "def correlation_check(dataset,threshold):\n",
    "  corr_matrix = dataset.corr()\n",
    "  corr=set()\n",
    "  col_list = dataset.columns\n",
    "  for i in range(len(col_list)):\n",
    "    for j in range(i+1,len(col_list)):\n",
    "      if(corr_matrix.iloc[i,j]>=threshold):\n",
    "        corr.add(col_list[j])\n",
    "  return corr"
   ]
  },
  {
   "cell_type": "code",
   "execution_count": 46,
   "metadata": {
    "colab": {
     "base_uri": "https://localhost:8080/"
    },
    "executionInfo": {
     "elapsed": 7,
     "status": "ok",
     "timestamp": 1729869687265,
     "user": {
      "displayName": "Bharathkumar Tamilarasu",
      "userId": "11189951727030054376"
     },
     "user_tz": -330
    },
    "id": "-lz9bpSwhaqA",
    "outputId": "a92cf813-9feb-4816-97a7-716728cf50b8"
   },
   "outputs": [
    {
     "data": {
      "text/plain": [
       "{'BUI', 'DC'}"
      ]
     },
     "execution_count": 46,
     "metadata": {},
     "output_type": "execute_result"
    }
   ],
   "source": [
    "corr_features = correlation_check(X_train,0.80)\n",
    "corr_features"
   ]
  },
  {
   "cell_type": "code",
   "execution_count": 47,
   "metadata": {
    "executionInfo": {
     "elapsed": 6,
     "status": "ok",
     "timestamp": 1729869687265,
     "user": {
      "displayName": "Bharathkumar Tamilarasu",
      "userId": "11189951727030054376"
     },
     "user_tz": -330
    },
    "id": "hoRexJeesLN-"
   },
   "outputs": [],
   "source": [
    "# Dropping above columns in X_train and X_test\n",
    "\n",
    "X_train.drop(corr_features,axis=1,inplace=True)\n",
    "X_test.drop(corr_features,axis=1,inplace=True)"
   ]
  },
  {
   "cell_type": "code",
   "execution_count": 48,
   "metadata": {
    "colab": {
     "base_uri": "https://localhost:8080/"
    },
    "executionInfo": {
     "elapsed": 6,
     "status": "ok",
     "timestamp": 1729869687265,
     "user": {
      "displayName": "Bharathkumar Tamilarasu",
      "userId": "11189951727030054376"
     },
     "user_tz": -330
    },
    "id": "Ohq1FjkjsLLY",
    "outputId": "71bfbff7-8bd9-4a04-f61d-72c8a190614b"
   },
   "outputs": [
    {
     "name": "stdout",
     "output_type": "stream",
     "text": [
      "Shapes\n",
      "X Train -> (170, 8)\n",
      "X Test -> (73, 8)\n"
     ]
    }
   ],
   "source": [
    "print('Shapes\\nX Train ->',X_train.shape)\n",
    "print('X Test ->',X_test.shape)"
   ]
  },
  {
   "cell_type": "markdown",
   "metadata": {
    "id": "4q7MKVOK4JEW"
   },
   "source": [
    "###ii) Linear Regression"
   ]
  },
  {
   "cell_type": "code",
   "execution_count": 49,
   "metadata": {
    "colab": {
     "base_uri": "https://localhost:8080/",
     "height": 631
    },
    "executionInfo": {
     "elapsed": 1174,
     "status": "ok",
     "timestamp": 1729869688434,
     "user": {
      "displayName": "Bharathkumar Tamilarasu",
      "userId": "11189951727030054376"
     },
     "user_tz": -330
    },
    "id": "R3BbzlTDwLTr",
    "outputId": "6865da0b-8b8f-42ab-f0b9-6b88c3111f3f"
   },
   "outputs": [
    {
     "name": "stdout",
     "output_type": "stream",
     "text": [
      "Mean Absolute Error: 0.8416748546023337\n",
      "R2 Score: 0.9297090532879416\n",
      "\n",
      "\n"
     ]
    },
    {
     "data": {
      "image/png": "[encoded data removed]",
      "text/plain": [
       "<Figure size 800x600 with 1 Axes>"
      ]
     },
     "metadata": {},
     "output_type": "display_data"
    }
   ],
   "source": [
    "#Prediction\n",
    "\n",
    "lr = LinearRegression()\n",
    "lr.fit(X_train,y_train)\n",
    "y_pred = lr.predict(X_test)\n",
    "\n",
    "# Errors\n",
    "\n",
    "mae = mean_absolute_error(y_test,y_pred)\n",
    "score  = r2_score(y_test,y_pred)\n",
    "\n",
    "print(\"Mean Absolute Error:\",mae)\n",
    "print(\"R2 Score:\",score)\n",
    "print('\\n')\n",
    "\n",
    "# Graphs\n",
    "\n",
    "plt.figure(figsize=(8,6))\n",
    "plt.scatter(y_test,y_pred)\n",
    "plt.title('Y Test vs Y Predicted (Linear Regression)')\n",
    "plt.xlabel('Y Test')\n",
    "plt.ylabel('Y Predicted')\n",
    "plt.show()"
   ]
  },
  {
   "cell_type": "markdown",
   "metadata": {
    "id": "MI291evc8LTC"
   },
   "source": [
    "###iii) Lasso Regression"
   ]
  },
  {
   "cell_type": "code",
   "execution_count": 51,
   "metadata": {
    "colab": {
     "base_uri": "https://localhost:8080/",
     "height": 631
    },
    "executionInfo": {
     "elapsed": 9,
     "status": "ok",
     "timestamp": 1729869688434,
     "user": {
      "displayName": "Bharathkumar Tamilarasu",
      "userId": "11189951727030054376"
     },
     "user_tz": -330
    },
    "id": "wrga5f_CwLKD",
    "outputId": "cf9cc8d4-8a58-430c-cedc-5b90583c40f2"
   },
   "outputs": [
    {
     "name": "stdout",
     "output_type": "stream",
     "text": [
      "Mean Absolute Error: 0.9873658932527091\n",
      "R2 Score: 0.9370887072289473\n",
      "\n",
      "\n"
     ]
    },
    {
     "data": {
      "image/png": "[encoded data removed]",
      "text/plain": [
       "<Figure size 800x600 with 1 Axes>"
      ]
     },
     "metadata": {},
     "output_type": "display_data"
    }
   ],
   "source": [
    "#Prediction\n",
    "\n",
    "ls = Lasso()\n",
    "ls.fit(X_train,y_train)\n",
    "y_pred = ls.predict(X_test)\n",
    "\n",
    "# Errors\n",
    "\n",
    "mae = mean_absolute_error(y_test,y_pred)\n",
    "score  = r2_score(y_test,y_pred)\n",
    "\n",
    "print(\"Mean Absolute Error:\",mae)\n",
    "print(\"R2 Score:\",score)\n",
    "print('\\n')\n",
    "\n",
    "# Graphs\n",
    "\n",
    "plt.figure(figsize=(8,6))\n",
    "plt.scatter(y_test,y_pred)\n",
    "plt.title('Y Test vs Y Predicted (Lasso Regression)')\n",
    "plt.xlabel('Y Test')\n",
    "plt.ylabel('Y Predicted')\n",
    "plt.show()"
   ]
  },
  {
   "cell_type": "markdown",
   "metadata": {
    "id": "xYveouby8hI0"
   },
   "source": [
    "###iv) Ridge Regression"
   ]
  },
  {
   "cell_type": "code",
   "execution_count": 52,
   "metadata": {
    "colab": {
     "base_uri": "https://localhost:8080/",
     "height": 631
    },
    "executionInfo": {
     "elapsed": 8,
     "status": "ok",
     "timestamp": 1729869688434,
     "user": {
      "displayName": "Bharathkumar Tamilarasu",
      "userId": "11189951727030054376"
     },
     "user_tz": -330
    },
    "id": "kFdkwWBP8hI0",
    "outputId": "9fbf00d5-979f-44d4-c5ec-dc108a3b9068"
   },
   "outputs": [
    {
     "name": "stdout",
     "output_type": "stream",
     "text": [
      "Mean Absolute Error: 0.8423436223435491\n",
      "R2 Score: 0.9297636300153911\n",
      "\n",
      "\n"
     ]
    },
    {
     "data": {
      "image/png": "[encoded data removed]",
      "text/plain": [
       "<Figure size 800x600 with 1 Axes>"
      ]
     },
     "metadata": {},
     "output_type": "display_data"
    }
   ],
   "source": [
    "#Prediction\n",
    "\n",
    "rg = Ridge()\n",
    "rg.fit(X_train,y_train)\n",
    "y_pred = rg.predict(X_test)\n",
    "\n",
    "# Errors\n",
    "\n",
    "mae = mean_absolute_error(y_test,y_pred)\n",
    "score  = r2_score(y_test,y_pred)\n",
    "\n",
    "print(\"Mean Absolute Error:\",mae)\n",
    "print(\"R2 Score:\",score)\n",
    "print('\\n')\n",
    "\n",
    "# Graphs\n",
    "\n",
    "plt.figure(figsize=(8,6))\n",
    "plt.scatter(y_test,y_pred)\n",
    "plt.title('Y Test vs Y Predicted (Ridge Regression)')\n",
    "plt.xlabel('Y Test')\n",
    "plt.ylabel('Y Predicted')\n",
    "plt.show()"
   ]
  },
  {
   "cell_type": "markdown",
   "metadata": {
    "id": "k8iTG8Wu84b1"
   },
   "source": [
    "###v) ElasticNet Regression"
   ]
  },
  {
   "cell_type": "code",
   "execution_count": 53,
   "metadata": {
    "colab": {
     "base_uri": "https://localhost:8080/",
     "height": 631
    },
    "executionInfo": {
     "elapsed": 7,
     "status": "ok",
     "timestamp": 1729869688434,
     "user": {
      "displayName": "Bharathkumar Tamilarasu",
      "userId": "11189951727030054376"
     },
     "user_tz": -330
    },
    "id": "FdhxkQjo84b2",
    "outputId": "ee7bb96f-07ae-4a1e-e97b-faaf67174395"
   },
   "outputs": [
    {
     "name": "stdout",
     "output_type": "stream",
     "text": [
      "Mean Absolute Error: 0.9700568689994474\n",
      "R2 Score: 0.9370097191492393\n",
      "\n",
      "\n"
     ]
    },
    {
     "data": {
      "image/png": "[encoded data removed]",
      "text/plain": [
       "<Figure size 800x600 with 1 Axes>"
      ]
     },
     "metadata": {},
     "output_type": "display_data"
    }
   ],
   "source": [
    "#Prediction\n",
    "\n",
    "en = ElasticNet()\n",
    "en.fit(X_train,y_train)\n",
    "y_pred = en.predict(X_test)\n",
    "\n",
    "# Errors\n",
    "\n",
    "mae = mean_absolute_error(y_test,y_pred)\n",
    "score  = r2_score(y_test,y_pred)\n",
    "\n",
    "print(\"Mean Absolute Error:\",mae)\n",
    "print(\"R2 Score:\",score)\n",
    "print('\\n')\n",
    "\n",
    "# Graphs\n",
    "\n",
    "plt.figure(figsize=(8,6))\n",
    "plt.scatter(y_test,y_pred)\n",
    "plt.title('Y Test vs Y Predicted (Ridge Regression)')\n",
    "plt.xlabel('Y Test')\n",
    "plt.ylabel('Y Predicted')\n",
    "plt.show()"
   ]
  },
  {
   "cell_type": "markdown",
   "metadata": {
    "id": "v-BUgjraKTVG"
   },
   "source": [
    "## **5. Prediction**"
   ]
  },
  {
   "cell_type": "markdown",
   "metadata": {
    "id": "0sSkXKWIvhBj"
   },
   "source": [
    "Leverage the trained models to make predictions on new data, assessing their performance and reliability."
   ]
  },
  {
   "cell_type": "markdown",
   "metadata": {
    "id": "85u1h6QXjpar"
   },
   "source": [
    "As we can see above, the Linear Regression model provides the best score. Hence we will use this model for further predictions of FWI"
   ]
  },
  {
   "cell_type": "code",
   "execution_count": 54,
   "metadata": {
    "executionInfo": {
     "elapsed": 489,
     "status": "ok",
     "timestamp": 1729869688917,
     "user": {
      "displayName": "Bharathkumar Tamilarasu",
      "userId": "11189951727030054376"
     },
     "user_tz": -330
    },
    "id": "LJqOxxc6Z9b5"
   },
   "outputs": [],
   "source": [
    "def values_predictor(temperature,rh,ws,rain,ffmc,dmc,isi,region):\n",
    "  input = [[temperature,rh,ws,rain,ffmc,dmc,isi,region]]\n",
    "  predicted_value = lr.predict(input)\n",
    "  return float(predicted_value)"
   ]
  },
  {
   "cell_type": "markdown",
   "metadata": {
    "id": "duBNcmfUbJFk"
   },
   "source": [
    "The FWI has six levels of danger:\n",
    "\n",
    "* **Very low danger** - Less than 5\n",
    "* **Low danger** - Between 5 and 8.9\n",
    "* **Moderate danger** - Between 9 and 16.4\n",
    "* **High danger** - Between 16.5 and 30.4\n",
    "* **Very high danger** - Between 30.5 and 42.4\n",
    "* **Extreme danger** -  Greater than 42.4"
   ]
  },
  {
   "cell_type": "code",
   "execution_count": 55,
   "metadata": {
    "executionInfo": {
     "elapsed": 8,
     "status": "ok",
     "timestamp": 1729869688917,
     "user": {
      "displayName": "Bharathkumar Tamilarasu",
      "userId": "11189951727030054376"
     },
     "user_tz": -330
    },
    "id": "heBVl3U_a-Bm"
   },
   "outputs": [],
   "source": [
    "def danger_predictor(val):\n",
    "  if val < 5.2:\n",
    "    return 'very low danger'\n",
    "  elif val >= 5.2 and val < 11.2:\n",
    "    return 'low danger'\n",
    "  elif val >= 11.2 and val < 21.3:\n",
    "    return 'moderate danger'\n",
    "  elif val >= 21.3 and val < 38:\n",
    "    return 'high danger'\n",
    "  elif val >= 38 and val < 50:\n",
    "    return 'very high danger'\n",
    "  elif val >= 50:\n",
    "    return 'extreme danger'"
   ]
  },
  {
   "cell_type": "code",
   "execution_count": 56,
   "metadata": {
    "colab": {
     "base_uri": "https://localhost:8080/",
     "height": 237
    },
    "executionInfo": {
     "elapsed": 8,
     "status": "ok",
     "timestamp": 1729869688917,
     "user": {
      "displayName": "Bharathkumar Tamilarasu",
      "userId": "11189951727030054376"
     },
     "user_tz": -330
    },
    "id": "nwyT6wGJKdZy",
    "outputId": "73420954-536e-4b3e-8221-4eed3eb44dd9"
   },
   "outputs": [
    {
     "data": {
      "text/html": [
       "<div>\n",
       "<style scoped>\n",
       "    .dataframe tbody tr th:only-of-type {\n",
       "        vertical-align: middle;\n",
       "    }\n",
       "\n",
       "    .dataframe tbody tr th {\n",
       "        vertical-align: top;\n",
       "    }\n",
       "\n",
       "    .dataframe thead th {\n",
       "        text-align: right;\n",
       "    }\n",
       "</style>\n",
       "<table border=\"1\" class=\"dataframe\">\n",
       "  <thead>\n",
       "    <tr style=\"text-align: right;\">\n",
       "      <th></th>\n",
       "      <th>day</th>\n",
       "      <th>month</th>\n",
       "      <th>year</th>\n",
       "      <th>Temperature</th>\n",
       "      <th>RH</th>\n",
       "      <th>Ws</th>\n",
       "      <th>Rain</th>\n",
       "      <th>FFMC</th>\n",
       "      <th>DMC</th>\n",
       "      <th>ISI</th>\n",
       "      <th>FWI</th>\n",
       "      <th>Classes</th>\n",
       "      <th>Region</th>\n",
       "    </tr>\n",
       "  </thead>\n",
       "  <tbody>\n",
       "    <tr>\n",
       "      <th>89</th>\n",
       "      <td>29</td>\n",
       "      <td>8</td>\n",
       "      <td>2012</td>\n",
       "      <td>35</td>\n",
       "      <td>48</td>\n",
       "      <td>18</td>\n",
       "      <td>0.0</td>\n",
       "      <td>90.1</td>\n",
       "      <td>54.2</td>\n",
       "      <td>12.5</td>\n",
       "      <td>30.2</td>\n",
       "      <td>fire</td>\n",
       "      <td>0</td>\n",
       "    </tr>\n",
       "    <tr>\n",
       "      <th>199</th>\n",
       "      <td>18</td>\n",
       "      <td>8</td>\n",
       "      <td>2012</td>\n",
       "      <td>37</td>\n",
       "      <td>37</td>\n",
       "      <td>14</td>\n",
       "      <td>0.0</td>\n",
       "      <td>94.3</td>\n",
       "      <td>35.9</td>\n",
       "      <td>16.0</td>\n",
       "      <td>26.3</td>\n",
       "      <td>fire</td>\n",
       "      <td>1</td>\n",
       "    </tr>\n",
       "    <tr>\n",
       "      <th>205</th>\n",
       "      <td>24</td>\n",
       "      <td>8</td>\n",
       "      <td>2012</td>\n",
       "      <td>35</td>\n",
       "      <td>38</td>\n",
       "      <td>15</td>\n",
       "      <td>0.0</td>\n",
       "      <td>92.1</td>\n",
       "      <td>51.3</td>\n",
       "      <td>12.2</td>\n",
       "      <td>26.9</td>\n",
       "      <td>fire</td>\n",
       "      <td>1</td>\n",
       "    </tr>\n",
       "    <tr>\n",
       "      <th>206</th>\n",
       "      <td>25</td>\n",
       "      <td>8</td>\n",
       "      <td>2012</td>\n",
       "      <td>34</td>\n",
       "      <td>40</td>\n",
       "      <td>18</td>\n",
       "      <td>0.0</td>\n",
       "      <td>92.1</td>\n",
       "      <td>56.3</td>\n",
       "      <td>14.3</td>\n",
       "      <td>31.1</td>\n",
       "      <td>fire</td>\n",
       "      <td>1</td>\n",
       "    </tr>\n",
       "    <tr>\n",
       "      <th>207</th>\n",
       "      <td>26</td>\n",
       "      <td>8</td>\n",
       "      <td>2012</td>\n",
       "      <td>33</td>\n",
       "      <td>37</td>\n",
       "      <td>16</td>\n",
       "      <td>0.0</td>\n",
       "      <td>92.2</td>\n",
       "      <td>61.3</td>\n",
       "      <td>13.1</td>\n",
       "      <td>30.3</td>\n",
       "      <td>fire</td>\n",
       "      <td>1</td>\n",
       "    </tr>\n",
       "    <tr>\n",
       "      <th>208</th>\n",
       "      <td>27</td>\n",
       "      <td>8</td>\n",
       "      <td>2012</td>\n",
       "      <td>36</td>\n",
       "      <td>54</td>\n",
       "      <td>14</td>\n",
       "      <td>0.0</td>\n",
       "      <td>91.0</td>\n",
       "      <td>65.9</td>\n",
       "      <td>10.0</td>\n",
       "      <td>26.1</td>\n",
       "      <td>fire</td>\n",
       "      <td>1</td>\n",
       "    </tr>\n",
       "  </tbody>\n",
       "</table>\n",
       "</div>"
      ],
      "text/plain": [
       "     day  month  year  Temperature  RH  Ws  Rain  FFMC   DMC   ISI   FWI  \\\n",
       "89    29      8  2012           35  48  18   0.0  90.1  54.2  12.5  30.2   \n",
       "199   18      8  2012           37  37  14   0.0  94.3  35.9  16.0  26.3   \n",
       "205   24      8  2012           35  38  15   0.0  92.1  51.3  12.2  26.9   \n",
       "206   25      8  2012           34  40  18   0.0  92.1  56.3  14.3  31.1   \n",
       "207   26      8  2012           33  37  16   0.0  92.2  61.3  13.1  30.3   \n",
       "208   27      8  2012           36  54  14   0.0  91.0  65.9  10.0  26.1   \n",
       "\n",
       "    Classes  Region  \n",
       "89     fire       0  \n",
       "199    fire       1  \n",
       "205    fire       1  \n",
       "206    fire       1  \n",
       "207    fire       1  \n",
       "208    fire       1  "
      ]
     },
     "execution_count": 56,
     "metadata": {},
     "output_type": "execute_result"
    }
   ],
   "source": [
    "temp  = df3.drop(['DC','BUI'],axis=1)\n",
    "temp[(temp['month'] == 8) & (temp['FWI'] > 25)]"
   ]
  },
  {
   "cell_type": "code",
   "execution_count": 57,
   "metadata": {
    "colab": {
     "base_uri": "https://localhost:8080/"
    },
    "executionInfo": {
     "elapsed": 7,
     "status": "ok",
     "timestamp": 1729869688917,
     "user": {
      "displayName": "Bharathkumar Tamilarasu",
      "userId": "11189951727030054376"
     },
     "user_tz": -330
    },
    "id": "885ndbefaUi9",
    "outputId": "3ce3a226-3df7-47d5-ff4d-dede90a7efc0"
   },
   "outputs": [
    {
     "name": "stdout",
     "output_type": "stream",
     "text": [
      "FWI is 27.9 and the area is in high danger of fire\n"
     ]
    },
    {
     "name": "stderr",
     "output_type": "stream",
     "text": [
      "C:\\Users\\Dell\\AppData\\Local\\Packages\\PythonSoftwareFoundation.Python.3.12_qbz5n2kfra8p0\\LocalCache\\local-packages\\Python312\\site-packages\\sklearn\\base.py:493: UserWarning: X does not have valid feature names, but LinearRegression was fitted with feature names\n",
      "  warnings.warn(\n",
      "C:\\Users\\Dell\\AppData\\Local\\Temp\\ipykernel_13236\\3793724655.py:4: DeprecationWarning: Conversion of an array with ndim > 0 to a scalar is deprecated, and will error in future. Ensure you extract a single element from your array before performing this operation. (Deprecated NumPy 1.25.)\n",
      "  return float(predicted_value)\n"
     ]
    }
   ],
   "source": [
    "temperature = 35\n",
    "rh = 48\n",
    "ws = 18\n",
    "rain = 0.0\n",
    "ffmc = 90.1\n",
    "dmc = 54.2\n",
    "isi = 12.5\n",
    "region = 0\n",
    "\n",
    "predict = values_predictor(temperature,rh,ws,rain,ffmc,dmc,isi,region)\n",
    "predict = round(predict,1)\n",
    "print(f'FWI is {predict} and the area is in {danger_predictor(predict)} of fire')"
   ]
  },
  {
   "cell_type": "code",
   "execution_count": 59,
   "metadata": {
    "executionInfo": {
     "elapsed": 6,
     "status": "ok",
     "timestamp": 1729869688917,
     "user": {
      "displayName": "Bharathkumar Tamilarasu",
      "userId": "11189951727030054376"
     },
     "user_tz": -330
    },
    "id": "JZVvX0HOsvMw"
   },
   "outputs": [],
   "source": [
    "import pickle\n",
    "\n",
    "saved_models = {\n",
    "    'model' : lr\n",
    "}\n",
    "\n",
    "with open(r'F:\\Ankith\\Project\\Python Projects\\fire prediction\\Model\\Artifact\\saved models.pickle','wb') as f:\n",
    "  pickle.dump(saved_models,f)"
   ]
  },
  {
   "cell_type": "code",
   "execution_count": 60,
   "metadata": {
    "colab": {
     "base_uri": "https://localhost:8080/"
    },
    "executionInfo": {
     "elapsed": 6,
     "status": "ok",
     "timestamp": 1729869688917,
     "user": {
      "displayName": "Bharathkumar Tamilarasu",
      "userId": "11189951727030054376"
     },
     "user_tz": -330
    },
    "id": "FdD9bcz0cxxw",
    "outputId": "643e5322-109a-4971-ae27-d45ae65b818c"
   },
   "outputs": [
    {
     "name": "stdout",
     "output_type": "stream",
     "text": [
      "{'model': LinearRegression()}\n"
     ]
    }
   ],
   "source": [
    "with open(r'F:\\Ankith\\Project\\Python Projects\\fire prediction\\Model\\Artifact\\saved models.pickle','rb') as f:\n",
    "  print(pickle.load(f))"
   ]
  },
  {
   "cell_type": "code",
   "execution_count": 61,
   "metadata": {
    "executionInfo": {
     "elapsed": 5,
     "status": "ok",
     "timestamp": 1729869688917,
     "user": {
      "displayName": "Bharathkumar Tamilarasu",
      "userId": "11189951727030054376"
     },
     "user_tz": -330
    },
    "id": "wpWg1X8Ot5nS"
   },
   "outputs": [],
   "source": [
    "import json\n",
    "\n",
    "columns = {\n",
    "    'region' : [\"Bejaia Region\", \"Sidi-Bel Abbes Region\"]\n",
    "}\n",
    "\n",
    "with open(r'F:\\Ankith\\Project\\Python Projects\\fire prediction\\Model\\Artifact\\prediction_input.json','w') as f:\n",
    "  f.write(json.dumps(columns))"
   ]
  },
  {
   "cell_type": "markdown",
   "metadata": {
    "id": "W9mzWD6A4YNb"
   },
   "source": [
    "# **Limitations**"
   ]
  },
  {
   "cell_type": "markdown",
   "metadata": {
    "id": "CRBY0fld6Uq0"
   },
   "source": [
    "* The model was trained exclusively using data from the 'Bejaia' and 'Sidi-Bel Abbes' Regions.\n",
    "* The training dataset spans from June 2012 to September 2012.\n",
    "* Exclusion of 'Drought Code (DC)' and 'Buildup Index (BUI)' input values is recommended due to their high correlation with 'Duff Moisture Code (DMC).'\n",
    "* The training prioritizes region-specific insights, focusing on the unique characteristics of 'Bejaia' and 'Sidi-Bel Abbes' during the specified time period."
   ]
  },
  {
   "cell_type": "markdown",
   "metadata": {
    "id": "qYuo2TKjyx9c"
   },
   "source": [
    "# **Conclusion**"
   ]
  },
  {
   "cell_type": "markdown",
   "metadata": {
    "id": "NP2VMZiay1in"
   },
   "source": [
    "In conclusion, the 'Algerian_Fire_Forecaster' project successfully utilized Python and machine learning techniques to predict the Fire Weather Index (FWI) for locations in Algeria. By employing temperature, relative humidity (rh), wind speed (ws), rainfall (rain), Fine Fuel Moisture Code (FFMC), Duff Moisture Code (DMC), Initial Spread Index (ISI), fire classes, and regional parameters as input features, our model demonstrated the ability to assess the potential fire danger.\n",
    "\n",
    "The predictive model not only showcased the importance of meteorological and environmental variables in determining FWI but also provided valuable insights into the factors contributing to fire risk in Algerian regions.\n",
    "\n",
    "This project contributes to the ongoing efforts in fire management by offering a proactive tool for assessing and forecasting fire risk. The insights gained from this predictive model can aid authorities and stakeholders in making informed decisions regarding fire prevention, preparedness, and response strategies.\n",
    "\n",
    "As with any predictive model, continuous monitoring and refinement are essential to adapt to changing environmental conditions. Future work may involve incorporating additional data sources, exploring advanced machine learning algorithms, and collaborating with local authorities to enhance the model's accuracy and reliability.\n",
    "\n",
    "In summary, the 'Algerian_Fire_Forecaster' project leverages the power of machine learning to enhance our understanding of fire weather dynamics in Algeria, ultimately contributing to more effective wildfire risk management strategies in the region."
   ]
  }
 ],
 "metadata": {
  "colab": {
   "collapsed_sections": [
    "Gq1j4bOE43cK",
    "IdLWj4bZ4-xQ",
    "XvLVXUDa2F2O",
    "sk-ZRPOo51W3",
    "V5Qt98C6z5M1",
    "aSPZE8aT3SJj",
    "3RnN4peoiCZX",
    "EA58QkPgCw2i",
    "pIqUNzMswS_f",
    "H_e165WhwZfR"
   ],
   "provenance": []
  },
  "kernelspec": {
   "display_name": "Python 3",
   "name": "python3"
  },
  "language_info": {
   "codemirror_mode": {
    "name": "ipython",
    "version": 3
   },
   "file_extension": ".py",
   "mimetype": "text/x-python",
   "name": "python",
   "nbconvert_exporter": "python",
   "pygments_lexer": "ipython3",
   "version": "3.12.9"
  }
 },
 "nbformat": 4,
 "nbformat_minor": 0
}
